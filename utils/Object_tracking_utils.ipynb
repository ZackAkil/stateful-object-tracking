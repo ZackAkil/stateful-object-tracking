{
  "nbformat": 4,
  "nbformat_minor": 0,
  "metadata": {
    "colab": {
      "provenance": [],
      "authorship_tag": "ABX9TyMc/9Ov/Ae0vRtdLWPHAr9a",
      "include_colab_link": true
    },
    "kernelspec": {
      "name": "python3",
      "display_name": "Python 3"
    },
    "language_info": {
      "name": "python"
    }
  },
  "cells": [
    {
      "cell_type": "markdown",
      "metadata": {
        "id": "view-in-github",
        "colab_type": "text"
      },
      "source": [
        "<a href=\"https://colab.research.google.com/github/ZackAkil/stateful-object-tracking/blob/main/utils/Object_tracking_utils.ipynb\" target=\"_parent\"><img src=\"https://colab.research.google.com/assets/colab-badge.svg\" alt=\"Open In Colab\"/></a>"
      ]
    },
    {
      "cell_type": "code",
      "execution_count": 2,
      "metadata": {
        "colab": {
          "base_uri": "https://localhost:8080/"
        },
        "id": "l3EssA1O80O9",
        "outputId": "06ad8e13-a0e4-4d59-a482-4d5337a8e35c"
      },
      "outputs": [
        {
          "output_type": "stream",
          "name": "stdout",
          "text": [
            "Writing utils.py\n"
          ]
        }
      ],
      "source": [
        "%%writefile utils.py\n",
        "\n",
        "import numpy as np\n",
        "\n",
        "from scipy.ndimage import binary_dilation\n",
        "\n",
        "import matplotlib.pyplot as plt\n",
        "\n",
        "\n",
        "def expand_islands(matrix, n=0):\n",
        "    # Create a structuring element for dilation\n",
        "    structure = np.ones((3, 3), dtype=int)\n",
        "\n",
        "    # Perform binary dilation on the matrix\n",
        "    dilated_matrix = binary_dilation(matrix, iterations=n)\n",
        "\n",
        "    return dilated_matrix\n",
        "\n",
        "\n",
        "from scipy.ndimage import label, sum\n",
        "\n",
        "def remove_small_islands(matrix, n=100):\n",
        "    labeled_matrix, num_features = label(matrix)  # Label connected components\n",
        "    component_sizes = sum(matrix, labeled_matrix, range(num_features + 1))  # Calculate sizes\n",
        "\n",
        "    # Create a mask to filter out small islands\n",
        "    # print(component_sizes)\n",
        "    mask = (component_sizes >= n)\n",
        "\n",
        "    # Apply the mask to remove small islands\n",
        "    filtered_matrix = mask[labeled_matrix]\n",
        "\n",
        "    return filtered_matrix\n",
        "\n",
        "\n",
        "from scipy.ndimage import label\n",
        "\n",
        "def find_islands(matrix):\n",
        "\n",
        "  # Apply the label function to find connected components\n",
        "  labeled_matrix, num_labels = label(matrix)\n",
        "\n",
        "  # Get the unique labels\n",
        "  unique_labels = np.unique(labeled_matrix)\n",
        "\n",
        "  boxes = []\n",
        "  # Iterate over the unique labels (excluding background label 0)\n",
        "  for label_value in unique_labels[1:]:\n",
        "      # Create a mask for the current label\n",
        "      mask = (labeled_matrix == label_value)\n",
        "\n",
        "      # Find the indices of the ones in the mask\n",
        "      indices = np.where(mask)\n",
        "\n",
        "      avg_y = indices[0].mean()\n",
        "      avg_x = indices[1].mean()\n",
        "\n",
        "      min_x = indices[1].min()\n",
        "      max_x = indices[1].max()\n",
        "\n",
        "      min_y = indices[0].min()\n",
        "      max_y = indices[0].max()\n",
        "\n",
        "      box = {'pos':{'x':avg_x, 'y':avg_y}, 'bbox':{'min_x':min_x, 'max_x':max_x,\n",
        "                                                   'min_y':min_y, 'max_y':max_y}}\n",
        "      boxes.append(box)\n",
        "\n",
        "  return boxes\n",
        "\n",
        "def run_box_huristic(mask):\n",
        "\n",
        "  porlarized_matrix = mask > 0.5\n",
        "\n",
        "  expanded_pixels = expand_islands(porlarized_matrix, 1)\n",
        "\n",
        "  removed_small_islands = remove_small_islands(expanded_pixels, n=50)\n",
        "\n",
        "  boxes = find_islands(removed_small_islands)\n",
        "\n",
        "  return boxes\n",
        "\n",
        "\n",
        "\n",
        "\n",
        "def plot_boxes(image, bboxes, save=None):\n",
        "\n",
        "  # plt.imshow(labeled_matrix)\n",
        "  plt.clf()\n",
        "  plt.imshow(image)\n",
        "\n",
        "  # Set the plot aspect ratio to equal\n",
        "  plt.gca().set_aspect('equal')\n",
        "\n",
        "  # Iterate over the unique labels (excluding background label 0)\n",
        "  for box in bboxes:\n",
        "\n",
        "      avg_y = box['pos']['y']\n",
        "      avg_x = box['pos']['x']\n",
        "\n",
        "      min_x = box['bbox']['min_x']\n",
        "      max_x = box['bbox']['max_x']\n",
        "\n",
        "      min_y = box['bbox']['min_y']\n",
        "      max_y = box['bbox']['max_y']\n",
        "\n",
        "      x, y = avg_x, avg_y\n",
        "      circle = plt.Circle((x, y), radius=2, color='red', fill=True)\n",
        "\n",
        "      rect = plt.Rectangle((min_x, min_y), max_x - min_x, max_y - min_y,\n",
        "                         linewidth=1, edgecolor='r', facecolor='none')\n",
        "      plt.gca().add_patch(circle)\n",
        "      plt.gca().add_patch(rect)\n",
        "      plt.axis('off')\n",
        "  if save:\n",
        "    plt.savefig(f'{save}.png', bbox_inches='tight', pad_inches=0)\n",
        "  else:\n",
        "    plt.show()\n"
      ]
    },
    {
      "cell_type": "code",
      "source": [],
      "metadata": {
        "id": "g0S2kNeD9u1N"
      },
      "execution_count": null,
      "outputs": []
    }
  ]
}