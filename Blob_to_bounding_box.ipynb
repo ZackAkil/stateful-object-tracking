{
  "nbformat": 4,
  "nbformat_minor": 0,
  "metadata": {
    "colab": {
      "provenance": [],
      "authorship_tag": "ABX9TyNkfo5sYDNHPQJ5YmmT3iVN",
      "include_colab_link": true
    },
    "kernelspec": {
      "name": "python3",
      "display_name": "Python 3"
    },
    "language_info": {
      "name": "python"
    }
  },
  "cells": [
    {
      "cell_type": "markdown",
      "metadata": {
        "id": "view-in-github",
        "colab_type": "text"
      },
      "source": [
        "<a href=\"https://colab.research.google.com/github/ZackAkil/stateful-object-tracking/blob/main/Blob_to_bounding_box.ipynb\" target=\"_parent\"><img src=\"https://colab.research.google.com/assets/colab-badge.svg\" alt=\"Open In Colab\"/></a>"
      ]
    },
    {
      "cell_type": "code",
      "execution_count": 16,
      "metadata": {
        "id": "XMEH_6TctFd3"
      },
      "outputs": [],
      "source": [
        "import numpy as np\n",
        "\n",
        "# Set the dimensions of the array\n",
        "height, width, channels = 100, 100, 1\n",
        "\n",
        "# Create an empty array filled with zeros\n",
        "array = np.zeros((height, width, channels), dtype=int)\n",
        "\n",
        "# Generate random clusters of ones\n",
        "num_clusters = 10  # Number of clusters\n",
        "\n",
        "for _ in range(num_clusters):\n",
        "    # Generate random coordinates for the cluster\n",
        "    cluster_size = np.random.randint(3, 16)\n",
        "    x = np.random.randint(0, width - cluster_size)\n",
        "    y = np.random.randint(0, height - cluster_size)\n",
        "    \n",
        "    # Set the cluster region to ones\n",
        "    array[y:y+cluster_size, x:x+cluster_size, :] = 1\n"
      ]
    },
    {
      "cell_type": "code",
      "source": [
        "import matplotlib.pyplot as plt\n",
        "\n",
        "plt.imshow(array)"
      ],
      "metadata": {
        "colab": {
          "base_uri": "https://localhost:8080/",
          "height": 450
        },
        "id": "u0gpTjF0tUpZ",
        "outputId": "5cbbc92c-283b-4746-8c01-7d8bca9e35f2"
      },
      "execution_count": 17,
      "outputs": [
        {
          "output_type": "execute_result",
          "data": {
            "text/plain": [
              "<matplotlib.image.AxesImage at 0x7f404d942890>"
            ]
          },
          "metadata": {},
          "execution_count": 17
        },
        {
          "output_type": "display_data",
          "data": {
            "text/plain": [
              "<Figure size 640x480 with 1 Axes>"
            ],
            "image/png": "[encoded data removed]"
          },
          "metadata": {}
        }
      ]
    },
    {
      "cell_type": "code",
      "source": [
        "import numpy as np\n",
        "from scipy.ndimage import binary_dilation\n",
        "\n",
        "def expand_islands(matrix, n):\n",
        "    # Create a structuring element for dilation\n",
        "    structure = np.ones((3, 3), dtype=int)\n",
        "\n",
        "    # Perform binary dilation on the matrix\n",
        "    dilated_matrix = binary_dilation(matrix, iterations=n)\n",
        "\n",
        "    return dilated_matrix\n",
        "\n",
        "# Assuming you have a matrix called 'matrix' with islands of ones\n",
        "expanded_matrix = expand_islands(array, n=2)\n",
        "plt.imshow(expanded_matrix)"
      ],
      "metadata": {
        "colab": {
          "base_uri": "https://localhost:8080/",
          "height": 450
        },
        "id": "L9v3YAALyrw3",
        "outputId": "63c63d52-0657-4ec0-a6ca-335a8ee8f1a9"
      },
      "execution_count": 25,
      "outputs": [
        {
          "output_type": "execute_result",
          "data": {
            "text/plain": [
              "<matplotlib.image.AxesImage at 0x7f404d9fa650>"
            ]
          },
          "metadata": {},
          "execution_count": 25
        },
        {
          "output_type": "display_data",
          "data": {
            "text/plain": [
              "<Figure size 640x480 with 1 Axes>"
            ],
            "image/png": "[encoded data removed]"
          },
          "metadata": {}
        }
      ]
    },
    {
      "cell_type": "code",
      "source": [
        "from scipy.ndimage import label, sum\n",
        "\n",
        "def remove_small_islands(matrix, n):\n",
        "    labeled_matrix, num_features = label(matrix)  # Label connected components\n",
        "    component_sizes = sum(matrix, labeled_matrix, range(num_features + 1))  # Calculate sizes\n",
        "\n",
        "    # Create a mask to filter out small islands\n",
        "    print(component_sizes)\n",
        "    mask = (component_sizes >= n)\n",
        "\n",
        "    # Apply the mask to remove small islands\n",
        "    filtered_matrix = mask[labeled_matrix]\n",
        "\n",
        "    return filtered_matrix\n",
        "\n",
        "# Assuming you have a matrix called 'matrix' with islands of ones\n",
        "filtered_matrix = remove_small_islands(expanded_matrix, n=100)\n",
        "plt.imshow(filtered_matrix)"
      ],
      "metadata": {
        "colab": {
          "base_uri": "https://localhost:8080/",
          "height": 468
        },
        "id": "dScS2rGxzpvl",
        "outputId": "a06e9985-64d0-407d-a23c-fe2f6368a9c6"
      },
      "execution_count": 30,
      "outputs": [
        {
          "output_type": "stream",
          "name": "stdout",
          "text": [
            "[  0. 406. 157.  69. 277. 109. 218.  37.]\n"
          ]
        },
        {
          "output_type": "execute_result",
          "data": {
            "text/plain": [
              "<matplotlib.image.AxesImage at 0x7f404d75c700>"
            ]
          },
          "metadata": {},
          "execution_count": 30
        },
        {
          "output_type": "display_data",
          "data": {
            "text/plain": [
              "<Figure size 640x480 with 1 Axes>"
            ],
            "image/png": "[encoded data removed]"
          },
          "metadata": {}
        }
      ]
    },
    {
      "cell_type": "code",
      "source": [
        "import numpy as np\n",
        "from scipy.ndimage import label\n",
        "\n",
        "def find_islands(matrix):\n",
        "\n",
        "  # Apply the label function to find connected components\n",
        "  labeled_matrix, num_labels = label(matrix)\n",
        "\n",
        "  # Get the unique labels\n",
        "  unique_labels = np.unique(labeled_matrix)\n",
        "\n",
        "  # Assuming you have a matrix image 'image' and a list of points 'points'\n",
        "  # Display the matrix image\n",
        "  plt.imshow(labeled_matrix)\n",
        "\n",
        "  # Set the plot aspect ratio to equal\n",
        "  plt.gca().set_aspect('equal')\n",
        "\n",
        "  # Iterate over the unique labels (excluding background label 0)\n",
        "  for label_value in unique_labels[1:]:\n",
        "      # Create a mask for the current label\n",
        "      mask = (labeled_matrix == label_value)\n",
        "      \n",
        "      # Find the indices of the ones in the mask\n",
        "      indices = np.where(mask)\n",
        "\n",
        "      avg_y = indices[0].mean()\n",
        "      avg_x = indices[1].mean()\n",
        "\n",
        "      min_x = indices[1].min()\n",
        "      max_x = indices[1].max()\n",
        "\n",
        "      min_y = indices[0].min()\n",
        "      max_y = indices[0].max()\n",
        "\n",
        "      x, y = avg_x, avg_y\n",
        "      circle = plt.Circle((x, y), radius=2, color='red', fill=True)\n",
        "\n",
        "      rect = plt.Rectangle((min_x, min_y), max_x - min_x, max_y - min_y,\n",
        "                         linewidth=1, edgecolor='r', facecolor='none')\n",
        "      plt.gca().add_patch(circle)\n",
        "      plt.gca().add_patch(rect)\n",
        "\n",
        "      print(avg_x, avg_y)\n",
        "      # Print the coordinates of the island\n",
        "      print(f\"Island {label_value}:\")\n",
        "      # for y, x in zip(indices[0], indices[1]):\n",
        "      #     print(f\"({x}, {y})\")\n",
        "      # print()\n",
        "  plt.show()\n",
        "\n",
        "find_islands(filtered_matrix)"
      ],
      "metadata": {
        "colab": {
          "base_uri": "https://localhost:8080/",
          "height": 607
        },
        "id": "Nt6xe0OItfvU",
        "outputId": "bfd96522-3595-4d67-897d-e210dc09ca84"
      },
      "execution_count": 36,
      "outputs": [
        {
          "output_type": "stream",
          "name": "stdout",
          "text": [
            "21.366995073891626 13.832512315270936\n",
            "Island 1:\n",
            "70.0 10.0\n",
            "Island 2:\n",
            "55.61371841155235 41.231046931407946\n",
            "Island 3:\n",
            "81.0 58.0\n",
            "Island 4:\n",
            "68.0229357798165 70.88990825688073\n",
            "Island 5:\n"
          ]
        },
        {
          "output_type": "display_data",
          "data": {
            "text/plain": [
              "<Figure size 640x480 with 1 Axes>"
            ],
            "image/png": "[encoded data removed]"
          },
          "metadata": {}
        }
      ]
    },
    {
      "cell_type": "code",
      "source": [],
      "metadata": {
        "id": "0x8TK726vPsA"
      },
      "execution_count": null,
      "outputs": []
    }
  ]
}