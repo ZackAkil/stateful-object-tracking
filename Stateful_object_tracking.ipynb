{
  "nbformat": 4,
  "nbformat_minor": 0,
  "metadata": {
    "colab": {
      "provenance": [],
      "gpuType": "T4",
      "authorship_tag": "ABX9TyNguCyHdOfyhVLZn9HNz5H3",
      "include_colab_link": true
    },
    "kernelspec": {
      "name": "python3",
      "display_name": "Python 3"
    },
    "language_info": {
      "name": "python"
    },
    "accelerator": "GPU",
    "gpuClass": "standard"
  },
  "cells": [
    {
      "cell_type": "markdown",
      "metadata": {
        "id": "view-in-github",
        "colab_type": "text"
      },
      "source": [
        "<a href=\"https://colab.research.google.com/github/ZackAkil/stateful-object-tracking/blob/main/Stateful_object_tracking.ipynb\" target=\"_parent\"><img src=\"https://colab.research.google.com/assets/colab-badge.svg\" alt=\"Open In Colab\"/></a>"
      ]
    },
    {
      "cell_type": "code",
      "source": [
        "!wget https://github.com/ZackAkil/stateful-object-tracking/raw/main/dummy%20data/labeling_circles/processing-movie.mp4"
      ],
      "metadata": {
        "colab": {
          "base_uri": "https://localhost:8080/"
        },
        "id": "8vLe7ZVDhfaR",
        "outputId": "0a950ddb-6c3e-48d1-9c3d-2e49e5d28986"
      },
      "execution_count": 1,
      "outputs": [
        {
          "output_type": "stream",
          "name": "stdout",
          "text": [
            "--2023-05-16 21:49:13--  https://github.com/ZackAkil/stateful-object-tracking/raw/main/dummy%20data/labeling_circles/processing-movie.mp4\n",
            "Resolving github.com (github.com)... 20.205.243.166\n",
            "Connecting to github.com (github.com)|20.205.243.166|:443... connected.\n",
            "HTTP request sent, awaiting response... 302 Found\n",
            "Location: https://raw.githubusercontent.com/ZackAkil/stateful-object-tracking/main/dummy%20data/labeling_circles/processing-movie.mp4 [following]\n",
            "--2023-05-16 21:49:14--  https://raw.githubusercontent.com/ZackAkil/stateful-object-tracking/main/dummy%20data/labeling_circles/processing-movie.mp4\n",
            "Resolving raw.githubusercontent.com (raw.githubusercontent.com)... 185.199.108.133, 185.199.109.133, 185.199.110.133, ...\n",
            "Connecting to raw.githubusercontent.com (raw.githubusercontent.com)|185.199.108.133|:443... connected.\n",
            "HTTP request sent, awaiting response... 200 OK\n",
            "Length: 82346 (80K) [application/octet-stream]\n",
            "Saving to: ‘processing-movie.mp4’\n",
            "\n",
            "processing-movie.mp 100%[===================>]  80.42K  --.-KB/s    in 0.003s  \n",
            "\n",
            "2023-05-16 21:49:14 (30.8 MB/s) - ‘processing-movie.mp4’ saved [82346/82346]\n",
            "\n"
          ]
        }
      ]
    },
    {
      "cell_type": "code",
      "source": [
        "import cv2\n",
        "import os\n",
        "\n",
        "# Path to the video file\n",
        "video_path = 'processing-movie.mp4'\n",
        "\n",
        "# Open the video file\n",
        "video = cv2.VideoCapture(video_path)\n",
        "\n",
        "# Create the folder to save the images\n",
        "output_folder = 'training_images'\n",
        "os.makedirs(output_folder, exist_ok=True)\n",
        "\n",
        "frame_number = 0\n",
        "\n",
        "while True:\n",
        "    # Set the frame position to the desired frame number\n",
        "    video.set(cv2.CAP_PROP_POS_FRAMES, frame_number)\n",
        "\n",
        "    # Read the frame\n",
        "    success, frame = video.read()\n",
        "\n",
        "    if success:\n",
        "        # Save the frame as an image\n",
        "        image_path = os.path.join(output_folder, f'{frame_number}.jpg')\n",
        "        cv2.imwrite(image_path, frame)\n",
        "        print(f\"Frame {frame_number} saved successfully: {image_path}\")\n",
        "        frame_number += 1\n",
        "    else:\n",
        "        print(\"End of video reached.\")\n",
        "        break\n"
      ],
      "metadata": {
        "id": "NBiwXeVRh2rI",
        "outputId": "05c928ee-a9ea-433c-d000-29381b0848ff",
        "colab": {
          "base_uri": "https://localhost:8080/",
          "height": 357
        }
      },
      "execution_count": 2,
      "outputs": [
        {
          "output_type": "stream",
          "name": "stdout",
          "text": [
            "Frame 56 saved successfully: training_images/56.jpg\n",
            "Frame 57 saved successfully: training_images/57.jpg\n",
            "Frame 58 saved successfully: training_images/58.jpg\n",
            "Frame 59 saved successfully: training_images/59.jpg\n",
            "Frame 60 saved successfully: training_images/60.jpg\n",
            "Frame 61 saved successfully: training_images/61.jpg\n",
            "Frame 62 saved successfully: training_images/62.jpg\n"
          ]
        },
        {
          "output_type": "error",
          "ename": "KeyboardInterrupt",
          "evalue": "ignored",
          "traceback": [
            "\u001b[0;31m---------------------------------------------------------------------------\u001b[0m",
            "\u001b[0;31mKeyboardInterrupt\u001b[0m                         Traceback (most recent call last)",
            "\u001b[0;32m<ipython-input-2-f834b5d3c756>\u001b[0m in \u001b[0;36m<cell line: 16>\u001b[0;34m()\u001b[0m\n\u001b[1;32m     16\u001b[0m \u001b[0;32mwhile\u001b[0m \u001b[0;32mTrue\u001b[0m\u001b[0;34m:\u001b[0m\u001b[0;34m\u001b[0m\u001b[0;34m\u001b[0m\u001b[0m\n\u001b[1;32m     17\u001b[0m     \u001b[0;31m# Set the frame position to the desired frame number\u001b[0m\u001b[0;34m\u001b[0m\u001b[0;34m\u001b[0m\u001b[0m\n\u001b[0;32m---> 18\u001b[0;31m     \u001b[0mvideo\u001b[0m\u001b[0;34m.\u001b[0m\u001b[0mset\u001b[0m\u001b[0;34m(\u001b[0m\u001b[0mcv2\u001b[0m\u001b[0;34m.\u001b[0m\u001b[0mCAP_PROP_POS_FRAMES\u001b[0m\u001b[0;34m,\u001b[0m \u001b[0mframe_number\u001b[0m\u001b[0;34m)\u001b[0m\u001b[0;34m\u001b[0m\u001b[0;34m\u001b[0m\u001b[0m\n\u001b[0m\u001b[1;32m     19\u001b[0m \u001b[0;34m\u001b[0m\u001b[0m\n\u001b[1;32m     20\u001b[0m     \u001b[0;31m# Read the frame\u001b[0m\u001b[0;34m\u001b[0m\u001b[0;34m\u001b[0m\u001b[0m\n",
            "\u001b[0;31mKeyboardInterrupt\u001b[0m: "
          ]
        }
      ]
    },
    {
      "cell_type": "code",
      "source": [
        "!zip -r training_images.zip training_images"
      ],
      "metadata": {
        "id": "mNuBn-IQlro-"
      },
      "execution_count": null,
      "outputs": []
    },
    {
      "cell_type": "code",
      "execution_count": 3,
      "metadata": {
        "colab": {
          "base_uri": "https://localhost:8080/",
          "height": 435
        },
        "id": "BPvGFWkohZw_",
        "outputId": "04175820-3aba-4aa5-c2f0-2758191e2a14"
      },
      "outputs": [
        {
          "output_type": "display_data",
          "data": {
            "text/plain": [
              "<Figure size 640x480 with 1 Axes>"
            ],
            "image/png": "[encoded data removed]"
          },
          "metadata": {}
        }
      ],
      "source": [
        "import matplotlib.pyplot as plt\n",
        "import matplotlib.patches as patches\n",
        "from PIL import Image\n",
        "\n",
        "# Load the image\n",
        "image_path = '/content/training_images/105.jpg'\n",
        "image = Image.open(image_path)\n",
        "\n",
        "# Create figure and axes\n",
        "fig, ax = plt.subplots()\n",
        "\n",
        "# Display the image\n",
        "ax.imshow(image)\n",
        "\n",
        "# Define the bounding box coordinates\n",
        "x_min = 100\n",
        "y_min = 100\n",
        "width = 200\n",
        "height = 150\n",
        "\n",
        "# Create a rectangle patch\n",
        "rect = patches.Rectangle((x_min, y_min), width, height, linewidth=2, edgecolor='r', facecolor='none')\n",
        "# Add the rectangle patch to the axes\n",
        "ax.add_patch(rect)\n",
        "# Show the plot\n",
        "plt.show()"
      ]
    },
    {
      "cell_type": "code",
      "source": [
        "!wget https://raw.githubusercontent.com/ZackAkil/stateful-object-tracking/main/dummy%20data/labeling_circles/bounding_box_coordinates.csv"
      ],
      "metadata": {
        "colab": {
          "base_uri": "https://localhost:8080/"
        },
        "id": "Aqd69MTHiGz0",
        "outputId": "2cfe29e2-11ba-48d8-f76e-8857e2a6dfb4"
      },
      "execution_count": 4,
      "outputs": [
        {
          "output_type": "stream",
          "name": "stdout",
          "text": [
            "--2023-05-16 22:18:34--  https://raw.githubusercontent.com/ZackAkil/stateful-object-tracking/main/dummy%20data/labeling_circles/bounding_box_coordinates.csv\n",
            "Resolving raw.githubusercontent.com (raw.githubusercontent.com)... 185.199.108.133, 185.199.109.133, 185.199.110.133, ...\n",
            "Connecting to raw.githubusercontent.com (raw.githubusercontent.com)|185.199.108.133|:443... connected.\n",
            "HTTP request sent, awaiting response... 200 OK\n",
            "Length: 9314 (9.1K) [text/plain]\n",
            "Saving to: ‘bounding_box_coordinates.csv.1’\n",
            "\n",
            "bounding_box_coordi 100%[===================>]   9.10K  --.-KB/s    in 0s      \n",
            "\n",
            "2023-05-16 22:18:34 (98.9 MB/s) - ‘bounding_box_coordinates.csv.1’ saved [9314/9314]\n",
            "\n"
          ]
        }
      ]
    },
    {
      "cell_type": "code",
      "source": [
        "import csv\n",
        "\n",
        "# Path to the CSV file\n",
        "csv_path = 'bounding_box_coordinates.csv'\n",
        "\n",
        "# Open the CSV file\n",
        "with open(csv_path, 'r') as file:\n",
        "    # Create a CSV reader\n",
        "    reader = csv.reader(file)\n",
        "    \n",
        "    # Initialize an empty list to store the data\n",
        "    data = []\n",
        "    \n",
        "    # Read and process each row\n",
        "    for row in reader:\n",
        "        # Convert row values to numbers and append to the data list\n",
        "        row_numbers = [float(value) for value in row]\n",
        "        data.append(row_numbers)"
      ],
      "metadata": {
        "id": "c0HVwek_iQ41"
      },
      "execution_count": 5,
      "outputs": []
    },
    {
      "cell_type": "code",
      "source": [
        "FRAME_N = 40"
      ],
      "metadata": {
        "id": "Nz68YgAYmLnY"
      },
      "execution_count": 6,
      "outputs": []
    },
    {
      "cell_type": "code",
      "source": [
        "data[FRAME_N]"
      ],
      "metadata": {
        "colab": {
          "base_uri": "https://localhost:8080/"
        },
        "id": "hpw42cknik5A",
        "outputId": "67e69981-1d37-4a89-dab8-c9232757fe2d"
      },
      "execution_count": 7,
      "outputs": [
        {
          "output_type": "execute_result",
          "data": {
            "text/plain": [
              "[621.0, 671.0, 548.0, 598.0, 539.0, 589.0, 480.0, 530.0]"
            ]
          },
          "metadata": {},
          "execution_count": 7
        }
      ]
    },
    {
      "cell_type": "code",
      "source": [
        "def convert_coordinates(min_x, max_x, min_y, max_y):\n",
        "    x_min = min_x\n",
        "    y_min = min_y\n",
        "    width = max_x - min_x\n",
        "    height = max_y - min_y\n",
        "    return x_min, y_min, width, height\n",
        "\n",
        "def display_image_with_bounding_boxes(image_filename, bounding_boxes):\n",
        "    # Load the image\n",
        "    image = Image.open(image_filename)\n",
        "\n",
        "    display_Image_matrix_with_boxes(image, bounding_boxes)\n",
        "\n",
        "\n",
        "def display_Image_matrix_with_boxes(image, bounding_boxes):\n",
        "\n",
        "    # Create figure and axes\n",
        "    fig, ax = plt.subplots()\n",
        "\n",
        "    # Display the image\n",
        "    ax.imshow(image)\n",
        "\n",
        "    # Add bounding boxes to the plot\n",
        "    for bbox in bounding_boxes:\n",
        "        print(bbox)\n",
        "        x_min, y_min, width, height = convert_coordinates(*bbox)\n",
        "        rect = patches.Rectangle((x_min, y_min), width, height, linewidth=2, edgecolor='r', facecolor='none')\n",
        "        ax.add_patch(rect)\n",
        "\n",
        "    # Show the plot\n",
        "    plt.show()"
      ],
      "metadata": {
        "id": "2EnEwknTimSj"
      },
      "execution_count": 8,
      "outputs": []
    },
    {
      "cell_type": "code",
      "source": [],
      "metadata": {
        "id": "LcegnurFJRGI"
      },
      "execution_count": 8,
      "outputs": []
    },
    {
      "cell_type": "code",
      "source": [
        "display_image_with_bounding_boxes(f'training_images/{FRAME_N}.jpg',\n",
        "                                  [data[FRAME_N][:4], data[FRAME_N][4:]])"
      ],
      "metadata": {
        "colab": {
          "base_uri": "https://localhost:8080/",
          "height": 470
        },
        "id": "PAGIvvn1jBtn",
        "outputId": "bb13eeda-47ec-418e-bd47-b319432c3c46"
      },
      "execution_count": 9,
      "outputs": [
        {
          "output_type": "stream",
          "name": "stdout",
          "text": [
            "[621.0, 671.0, 548.0, 598.0]\n",
            "[539.0, 589.0, 480.0, 530.0]\n"
          ]
        },
        {
          "output_type": "display_data",
          "data": {
            "text/plain": [
              "<Figure size 640x480 with 1 Axes>"
            ],
            "image/png": "[encoded data removed]"
          },
          "metadata": {}
        }
      ]
    },
    {
      "cell_type": "code",
      "source": [
        "import os\n",
        "import cv2\n",
        "import numpy as np\n",
        "from skimage.transform import resize"
      ],
      "metadata": {
        "id": "ECV-7W9i-TAA"
      },
      "execution_count": 10,
      "outputs": []
    },
    {
      "cell_type": "code",
      "source": [
        "# Folder path containing the images\n",
        "folder_path = 'training_images'\n",
        "\n",
        "# Get a list of image file names in the folder\n",
        "image_count = len(os.listdir(folder_path))\n",
        "\n",
        "# Initialize an empty list to store the loaded images\n",
        "images = []\n",
        "\n",
        "# Loop through the images in the folder\n",
        "for i in range(image_count):  # Assuming you have 100 images (adjust the range accordingly)\n",
        "    image_path = os.path.join(folder_path, f'{i}.jpg')\n",
        "    image = cv2.imread(image_path)\n",
        "    image = cv2.cvtColor(image, cv2.COLOR_BGR2RGB)  # Convert BGR to RGB if needed\n",
        "    # image = preprocess_image(image)  # Preprocess the image (if necessary)\n",
        "    images.append(  resize(image, (500,500)) )\n",
        "\n",
        "# Convert the list of images to a numpy array\n",
        "images = np.array(images)"
      ],
      "metadata": {
        "id": "QF_8bLB5-Tt4"
      },
      "execution_count": 11,
      "outputs": []
    },
    {
      "cell_type": "code",
      "source": [
        "plt.imshow(images[5])"
      ],
      "metadata": {
        "colab": {
          "base_uri": "https://localhost:8080/",
          "height": 452
        },
        "id": "1EgsIDWS-bJR",
        "outputId": "0b7730ee-e84b-46a2-8d3c-294e8904fba2"
      },
      "execution_count": 12,
      "outputs": [
        {
          "output_type": "execute_result",
          "data": {
            "text/plain": [
              "<matplotlib.image.AxesImage at 0x7f319f720c70>"
            ]
          },
          "metadata": {},
          "execution_count": 12
        },
        {
          "output_type": "display_data",
          "data": {
            "text/plain": [
              "<Figure size 640x480 with 1 Axes>"
            ],
            "image/png": "[encoded data removed]"
          },
          "metadata": {}
        }
      ]
    },
    {
      "cell_type": "code",
      "source": [
        "\n",
        "X = images / 255. "
      ],
      "metadata": {
        "id": "9KMtv4XUAGWD"
      },
      "execution_count": 13,
      "outputs": []
    },
    {
      "cell_type": "code",
      "source": [
        "X.shape"
      ],
      "metadata": {
        "colab": {
          "base_uri": "https://localhost:8080/"
        },
        "id": "A-jIbpLnAJCU",
        "outputId": "ea2653c6-057f-4c9f-cb38-ee03827a2857"
      },
      "execution_count": 18,
      "outputs": [
        {
          "output_type": "execute_result",
          "data": {
            "text/plain": [
              "(300, 600, 800, 3)"
            ]
          },
          "metadata": {},
          "execution_count": 18
        }
      ]
    },
    {
      "cell_type": "code",
      "source": [
        "# min_x, max_x, min_y, max_y"
      ],
      "metadata": {
        "id": "jsR0qU5RA9UH"
      },
      "execution_count": 19,
      "outputs": []
    },
    {
      "cell_type": "code",
      "source": [
        "data[0]"
      ],
      "metadata": {
        "colab": {
          "base_uri": "https://localhost:8080/"
        },
        "id": "WIQjG0jjAzsK",
        "outputId": "a6c32494-fa7d-4192-8f05-118b49565241"
      },
      "execution_count": 21,
      "outputs": [
        {
          "output_type": "execute_result",
          "data": {
            "text/plain": [
              "[381.0, 431.0, 282.0, 332.0, 379.0, 429.0, 280.0, 330.0]"
            ]
          },
          "metadata": {},
          "execution_count": 21
        }
      ]
    },
    {
      "cell_type": "code",
      "source": [
        "# normalise label coordinates\n",
        "\n",
        "np_labels = np.array(data)\n",
        "\n",
        "# Scaling factors for each column\n",
        "scaling_factors = np.array([800., 800., 600., 600., 800., 800., 600., 600.])\n",
        "\n",
        "# Scale the columns by different values\n",
        "scaled_matrix = np_labels / scaling_factors\n",
        "\n",
        "print(scaled_matrix)"
      ],
      "metadata": {
        "colab": {
          "base_uri": "https://localhost:8080/"
        },
        "id": "_vAzEunSAta-",
        "outputId": "afb6b9d7-85ad-489b-cddc-8f643d98cfc5"
      },
      "execution_count": 14,
      "outputs": [
        {
          "output_type": "stream",
          "name": "stdout",
          "text": [
            "[[0.47625    0.53875    0.47       ... 0.53625    0.46666667 0.55      ]\n",
            " [0.48375    0.54625    0.48166667 ... 0.54125    0.475      0.55833333]\n",
            " [0.49125    0.55375    0.49333333 ... 0.54625    0.48333333 0.56666667]\n",
            " ...\n",
            " [0.81375    0.87625    0.20166667 ... 0.14125    0.725      0.80833333]\n",
            " [0.82125    0.88375    0.21333333 ... 0.14625    0.71666667 0.8       ]\n",
            " [0.82875    0.89125    0.225      ... 0.15125    0.70833333 0.79166667]]\n"
          ]
        }
      ]
    },
    {
      "cell_type": "code",
      "source": [
        "def generate_box_mask(image_shape, bbox_coords):\n",
        "    # Create an empty mask with the same shape as the image\n",
        "    mask = np.zeros(image_shape, dtype=np.uint8)\n",
        "\n",
        "    # Iterate over the bounding box coordinates\n",
        "    for bbox in bbox_coords:\n",
        "        x_min, x_max, y_min, y_max = bbox\n",
        "\n",
        "        # Set the corresponding region in the mask to black\n",
        "        mask[y_min:y_max, x_min:x_max] = 1\n",
        "\n",
        "    return mask\n",
        "\n",
        "y_masks = []\n",
        "\n",
        "for m in scaled_matrix:\n",
        "  # Example usage\n",
        "  image_shape = (50, 50)  # Shape of the image\n",
        "  bbox_coords = [ (m[:4] * image_shape[0]).astype(int), (m[4:] *  image_shape[0]).astype(int)]  # Example bounding box coordinates\n",
        "\n",
        "  mask = generate_box_mask(image_shape, bbox_coords)\n",
        "  y_masks.append(mask)\n",
        "  # Display the mask (black box)\n",
        "  # print(mask)\n",
        "\n",
        "y_masks=  np.array(y_masks) \n",
        "plt.imshow(mask)\n",
        "y_masks.shape"
      ],
      "metadata": {
        "id": "xzApHnJcjXRk",
        "outputId": "f708ee5a-4bb8-438b-ae87-77c953e3b7dc",
        "colab": {
          "base_uri": "https://localhost:8080/",
          "height": 449
        }
      },
      "execution_count": 15,
      "outputs": [
        {
          "output_type": "execute_result",
          "data": {
            "text/plain": [
              "(300, 50, 50)"
            ]
          },
          "metadata": {},
          "execution_count": 15
        },
        {
          "output_type": "display_data",
          "data": {
            "text/plain": [
              "<Figure size 640x480 with 1 Axes>"
            ],
            "image/png": "[encoded data removed]"
          },
          "metadata": {}
        }
      ]
    },
    {
      "cell_type": "code",
      "source": [
        "scaled_matrix.shape"
      ],
      "metadata": {
        "colab": {
          "base_uri": "https://localhost:8080/"
        },
        "id": "ioyNhGtSBoLA",
        "outputId": "ebd61110-7f8c-44a2-d8ad-ce851e3761c7"
      },
      "execution_count": 16,
      "outputs": [
        {
          "output_type": "execute_result",
          "data": {
            "text/plain": [
              "(300, 8)"
            ]
          },
          "metadata": {},
          "execution_count": 16
        }
      ]
    },
    {
      "cell_type": "code",
      "source": [
        "y = y_masks"
      ],
      "metadata": {
        "id": "NYXdWazKAS4B"
      },
      "execution_count": 17,
      "outputs": []
    },
    {
      "cell_type": "code",
      "source": [
        "X.shape, y.shape"
      ],
      "metadata": {
        "colab": {
          "base_uri": "https://localhost:8080/"
        },
        "id": "dLoheKzKBz_B",
        "outputId": "b90b8b0e-85db-4fac-f700-eaa190b9d95e"
      },
      "execution_count": 18,
      "outputs": [
        {
          "output_type": "execute_result",
          "data": {
            "text/plain": [
              "((300, 500, 500, 3), (300, 50, 50))"
            ]
          },
          "metadata": {},
          "execution_count": 18
        }
      ]
    },
    {
      "cell_type": "code",
      "source": [
        "from sklearn.model_selection import train_test_split"
      ],
      "metadata": {
        "id": "So76C-bnCMTL"
      },
      "execution_count": 19,
      "outputs": []
    },
    {
      "cell_type": "code",
      "source": [
        "# X_train = X[:100] \n",
        "# X_test = X[100:] \n",
        "# y_train = y[:100] \n",
        "# y_test = y[100:] \n",
        "\n",
        "# X_train.shape, X_test.shape, y_train.shape, y_test.shape"
      ],
      "metadata": {
        "id": "PB_Sf0mlCd9e"
      },
      "execution_count": 20,
      "outputs": []
    },
    {
      "cell_type": "code",
      "source": [
        "X_train, X_test, y_train, y_test = train_test_split(X, y, \n",
        "                                      test_size=0.2, random_state=42)"
      ],
      "metadata": {
        "id": "zAesQWLxCPSI"
      },
      "execution_count": 21,
      "outputs": []
    },
    {
      "cell_type": "code",
      "source": [
        "import numpy as np\n",
        "from tensorflow import keras\n",
        "from tensorflow.keras.models import Model\n",
        "from tensorflow.keras.layers import Input, Reshape,Conv2D,Conv2DTranspose, MaxPooling2D, Flatten, Dense, Activation\n"
      ],
      "metadata": {
        "id": "G2ndlONdBuqB"
      },
      "execution_count": 70,
      "outputs": []
    },
    {
      "cell_type": "code",
      "source": [
        "\n",
        "# Load and preprocess your dataset\n",
        "# X_train: input images\n",
        "# y_train: bounding box coordinates of the two objects\n",
        "image_height=500\n",
        "image_width=500\n",
        "image_channels=3"
      ],
      "metadata": {
        "id": "y5qCSXpWBv4s"
      },
      "execution_count": 71,
      "outputs": []
    },
    {
      "cell_type": "code",
      "source": [
        "\n",
        "\n",
        "# Define the model architecture\n",
        "input_shape = (image_height, image_width, image_channels)\n",
        "inputs = Input(shape=input_shape)\n",
        "x = Conv2D(16, kernel_size=(3, 3), activation='relu')(inputs)\n",
        "x = MaxPooling2D(pool_size=(4, 4))(x)\n",
        "x = Conv2D(32, kernel_size=(3, 3), activation='relu')(x)\n",
        "x = MaxPooling2D(pool_size=(4, 4))(x)\n",
        "x = Conv2D(32, kernel_size=(4, 4), activation='relu')(x)\n",
        "x = MaxPooling2D(pool_size=(4, 4))(x)\n",
        "x = Flatten()(x)\n",
        "x = Dense(2500, activation=\"sigmoid\")(x)\n",
        "x = Dense(2500, activation=\"sigmoid\")(x)\n",
        "output =  Reshape((50, 50))(x)\n",
        "\n"
      ],
      "metadata": {
        "id": "VNIVD77CjJ30"
      },
      "execution_count": 77,
      "outputs": []
    },
    {
      "cell_type": "code",
      "source": [
        "import tensorflow as tf\n",
        "\n",
        "# Create the model\n",
        "model = tf.keras.models.Sequential()\n",
        "\n",
        "# Encoder\n",
        "model.add(tf.keras.layers.Conv2D(64, (3, 3), activation='relu', padding='same', input_shape=(500, 500, 3)))\n",
        "model.add(tf.keras.layers.MaxPooling2D((10, 10)))\n",
        "model.add(tf.keras.layers.Conv2D(128, (3, 3), activation='relu', padding='same'))\n",
        "model.add(tf.keras.layers.MaxPooling2D((5, 5)))\n",
        "\n",
        "# Decoder\n",
        "model.add(tf.keras.layers.Conv2DTranspose(128, (3, 3), activation='relu', padding='same'))\n",
        "model.add(tf.keras.layers.UpSampling2D((5, 5)))\n",
        "model.add(tf.keras.layers.Conv2DTranspose(1, (3, 3), activation='relu', padding='same'))\n",
        "\n",
        "# Print the model summary\n",
        "model.summary()"
      ],
      "metadata": {
        "id": "8UhsMWffsMsU",
        "outputId": "63700c8a-3575-4b5b-cd94-f3c3ecb747a8",
        "colab": {
          "base_uri": "https://localhost:8080/"
        }
      },
      "execution_count": 85,
      "outputs": [
        {
          "output_type": "stream",
          "name": "stdout",
          "text": [
            "Model: \"sequential_3\"\n",
            "_________________________________________________________________\n",
            " Layer (type)                Output Shape              Param #   \n",
            "=================================================================\n",
            " conv2d_60 (Conv2D)          (None, 500, 500, 64)      1792      \n",
            "                                                                 \n",
            " max_pooling2d_58 (MaxPoolin  (None, 50, 50, 64)       0         \n",
            " g2D)                                                            \n",
            "                                                                 \n",
            " conv2d_61 (Conv2D)          (None, 50, 50, 128)       73856     \n",
            "                                                                 \n",
            " max_pooling2d_59 (MaxPoolin  (None, 10, 10, 128)      0         \n",
            " g2D)                                                            \n",
            "                                                                 \n",
            " conv2d_transpose_20 (Conv2D  (None, 10, 10, 128)      147584    \n",
            " Transpose)                                                      \n",
            "                                                                 \n",
            " up_sampling2d_4 (UpSampling  (None, 50, 50, 128)      0         \n",
            " 2D)                                                             \n",
            "                                                                 \n",
            " conv2d_transpose_21 (Conv2D  (None, 50, 50, 1)        1153      \n",
            " Transpose)                                                      \n",
            "                                                                 \n",
            "=================================================================\n",
            "Total params: 224,385\n",
            "Trainable params: 224,385\n",
            "Non-trainable params: 0\n",
            "_________________________________________________________________\n"
          ]
        }
      ]
    },
    {
      "cell_type": "code",
      "source": [
        "# model = Model(inputs=inputs, outputs=output)\n",
        "\n",
        "# Compile the model\n",
        "model.compile(optimizer='adam', loss='binary_crossentropy')\n"
      ],
      "metadata": {
        "id": "TapyjZiCC1KD"
      },
      "execution_count": 86,
      "outputs": []
    },
    {
      "cell_type": "code",
      "source": [
        "model.summary()"
      ],
      "metadata": {
        "colab": {
          "base_uri": "https://localhost:8080/"
        },
        "id": "HxCA5y-EDstK",
        "outputId": "0b7588a4-0974-4bb5-a690-9f6d5e7388c8"
      },
      "execution_count": 87,
      "outputs": [
        {
          "output_type": "stream",
          "name": "stdout",
          "text": [
            "Model: \"sequential_3\"\n",
            "_________________________________________________________________\n",
            " Layer (type)                Output Shape              Param #   \n",
            "=================================================================\n",
            " conv2d_60 (Conv2D)          (None, 500, 500, 64)      1792      \n",
            "                                                                 \n",
            " max_pooling2d_58 (MaxPoolin  (None, 50, 50, 64)       0         \n",
            " g2D)                                                            \n",
            "                                                                 \n",
            " conv2d_61 (Conv2D)          (None, 50, 50, 128)       73856     \n",
            "                                                                 \n",
            " max_pooling2d_59 (MaxPoolin  (None, 10, 10, 128)      0         \n",
            " g2D)                                                            \n",
            "                                                                 \n",
            " conv2d_transpose_20 (Conv2D  (None, 10, 10, 128)      147584    \n",
            " Transpose)                                                      \n",
            "                                                                 \n",
            " up_sampling2d_4 (UpSampling  (None, 50, 50, 128)      0         \n",
            " 2D)                                                             \n",
            "                                                                 \n",
            " conv2d_transpose_21 (Conv2D  (None, 50, 50, 1)        1153      \n",
            " Transpose)                                                      \n",
            "                                                                 \n",
            "=================================================================\n",
            "Total params: 224,385\n",
            "Trainable params: 224,385\n",
            "Non-trainable params: 0\n",
            "_________________________________________________________________\n"
          ]
        }
      ]
    },
    {
      "cell_type": "code",
      "source": [
        "# Compile the model\n",
        "model.compile(optimizer='adam', loss='mean_squared_error')"
      ],
      "metadata": {
        "id": "WadBHMwGMPJR"
      },
      "execution_count": 88,
      "outputs": []
    },
    {
      "cell_type": "code",
      "source": [
        "# Train the model\n",
        "# model.fit(X_train, y_train, batch_size=6, epochs=20, verbose=1)\n",
        "history = model.fit(X_train, y_train, epochs=20, batch_size=10, validation_data=(X_test, y_test))\n",
        "\n"
      ],
      "metadata": {
        "colab": {
          "base_uri": "https://localhost:8080/"
        },
        "id": "-f-VyJBDC5Or",
        "outputId": "351df2c9-adb9-4fa4-c3ee-6e10aaba9356"
      },
      "execution_count": 124,
      "outputs": [
        {
          "output_type": "stream",
          "name": "stdout",
          "text": [
            "Epoch 1/20\n",
            "24/24 [==============================] - 2s 75ms/step - loss: 0.0032 - val_loss: 0.0034\n",
            "Epoch 2/20\n",
            "24/24 [==============================] - 2s 70ms/step - loss: 0.0033 - val_loss: 0.0034\n",
            "Epoch 3/20\n",
            "24/24 [==============================] - 2s 63ms/step - loss: 0.0033 - val_loss: 0.0034\n",
            "Epoch 4/20\n",
            "24/24 [==============================] - 2s 72ms/step - loss: 0.0032 - val_loss: 0.0034\n",
            "Epoch 5/20\n",
            "24/24 [==============================] - 2s 80ms/step - loss: 0.0032 - val_loss: 0.0034\n",
            "Epoch 6/20\n",
            "24/24 [==============================] - 2s 74ms/step - loss: 0.0032 - val_loss: 0.0034\n",
            "Epoch 7/20\n",
            "24/24 [==============================] - 1s 58ms/step - loss: 0.0032 - val_loss: 0.0035\n",
            "Epoch 8/20\n",
            "24/24 [==============================] - 1s 57ms/step - loss: 0.0032 - val_loss: 0.0034\n",
            "Epoch 9/20\n",
            "24/24 [==============================] - 1s 58ms/step - loss: 0.0032 - val_loss: 0.0034\n",
            "Epoch 10/20\n",
            "24/24 [==============================] - 2s 66ms/step - loss: 0.0032 - val_loss: 0.0034\n",
            "Epoch 11/20\n",
            "24/24 [==============================] - 1s 62ms/step - loss: 0.0032 - val_loss: 0.0034\n",
            "Epoch 12/20\n",
            "24/24 [==============================] - 1s 57ms/step - loss: 0.0032 - val_loss: 0.0033\n",
            "Epoch 13/20\n",
            "24/24 [==============================] - 1s 58ms/step - loss: 0.0032 - val_loss: 0.0033\n",
            "Epoch 14/20\n",
            "24/24 [==============================] - 1s 57ms/step - loss: 0.0032 - val_loss: 0.0034\n",
            "Epoch 15/20\n",
            "24/24 [==============================] - 1s 62ms/step - loss: 0.0032 - val_loss: 0.0033\n",
            "Epoch 16/20\n",
            "24/24 [==============================] - 1s 57ms/step - loss: 0.0032 - val_loss: 0.0033\n",
            "Epoch 17/20\n",
            "24/24 [==============================] - 1s 57ms/step - loss: 0.0031 - val_loss: 0.0033\n",
            "Epoch 18/20\n",
            "24/24 [==============================] - 1s 59ms/step - loss: 0.0031 - val_loss: 0.0033\n",
            "Epoch 19/20\n",
            "24/24 [==============================] - 2s 70ms/step - loss: 0.0031 - val_loss: 0.0033\n",
            "Epoch 20/20\n",
            "24/24 [==============================] - 1s 60ms/step - loss: 0.0031 - val_loss: 0.0034\n"
          ]
        }
      ]
    },
    {
      "cell_type": "code",
      "source": [
        "# Extract training and validation metrics from the history object\n",
        "train_loss = history.history['loss']\n",
        "# train_acc = history.history['accuracy']\n",
        "val_loss = history.history['val_loss']\n",
        "# val_acc = history.history['val_accuracy']\n",
        "\n",
        "# Plot the train-test curve\n",
        "epochs = range(1, len(train_loss) + 1)\n",
        "\n",
        "plt.figure()\n",
        "plt.plot(epochs, train_loss, 'b', label='Training Loss')\n",
        "plt.plot(epochs, val_loss, 'r', label='Validation Loss')\n",
        "plt.title('Train-Test Curve: Loss')\n",
        "plt.xlabel('Epochs')\n",
        "plt.ylabel('Loss')\n",
        "plt.legend()\n",
        "plt.show()\n",
        "\n",
        "# plt.figure()\n",
        "# plt.plot(epochs, train_acc, 'b', label='Training Accuracy')\n",
        "# plt.plot(epochs, val_acc, 'r', label='Validation Accuracy')\n",
        "# plt.title('Train-Test Curve: Accuracy')\n",
        "# plt.xlabel('Epochs')\n",
        "# plt.ylabel('Accuracy')\n",
        "# plt.legend()\n",
        "# plt.show()"
      ],
      "metadata": {
        "colab": {
          "base_uri": "https://localhost:8080/",
          "height": 472
        },
        "id": "nt9czcaKFdHw",
        "outputId": "2da03c0e-8c9f-4a7b-f83f-fe1e5e4867cf"
      },
      "execution_count": 125,
      "outputs": [
        {
          "output_type": "display_data",
          "data": {
            "text/plain": [
              "<Figure size 640x480 with 1 Axes>"
            ],
            "image/png": "[encoded data removed]"
          },
          "metadata": {}
        }
      ]
    },
    {
      "cell_type": "code",
      "source": [
        "# images = X_test\n",
        "\n",
        "np.random.seed(42)\n",
        "# Sample 5 random indices\n",
        "random_indices = np.random.choice(X_test.shape[0], size=5, replace=False)\n",
        "\n",
        "random_x = X_test[random_indices]\n",
        "random_y = y_test[random_indices]"
      ],
      "metadata": {
        "id": "bmp-J5h7IU5B"
      },
      "execution_count": 109,
      "outputs": []
    },
    {
      "cell_type": "code",
      "source": [
        "random_x_predict = model.predict(random_x)"
      ],
      "metadata": {
        "colab": {
          "base_uri": "https://localhost:8080/"
        },
        "id": "1bq6tM0fIwZL",
        "outputId": "0c0a84c1-f98e-49a2-874a-e332e190c174"
      },
      "execution_count": 126,
      "outputs": [
        {
          "output_type": "stream",
          "name": "stdout",
          "text": [
            "1/1 [==============================] - 0s 38ms/step\n"
          ]
        }
      ]
    },
    {
      "cell_type": "code",
      "source": [
        "plt.imshow(random_x[0] * 255)"
      ],
      "metadata": {
        "id": "n4R-Mz-Ys9Z8",
        "outputId": "4eb0e59f-2ee7-4e8a-c826-38ccb3d6a910",
        "colab": {
          "base_uri": "https://localhost:8080/",
          "height": 452
        }
      },
      "execution_count": 111,
      "outputs": [
        {
          "output_type": "execute_result",
          "data": {
            "text/plain": [
              "<matplotlib.image.AxesImage at 0x7f2f5d0813c0>"
            ]
          },
          "metadata": {},
          "execution_count": 111
        },
        {
          "output_type": "display_data",
          "data": {
            "text/plain": [
              "<Figure size 640x480 with 1 Axes>"
            ],
            "image/png": "[encoded data removed]"
          },
          "metadata": {}
        }
      ]
    },
    {
      "cell_type": "code",
      "source": [
        "plt.imshow(random_x_predict[0] >0.5)"
      ],
      "metadata": {
        "id": "BF_YscWTs16P",
        "outputId": "e20abd5a-618c-4399-af3b-0d0d4497b74a",
        "colab": {
          "base_uri": "https://localhost:8080/",
          "height": 449
        }
      },
      "execution_count": 128,
      "outputs": [
        {
          "output_type": "execute_result",
          "data": {
            "text/plain": [
              "<matplotlib.image.AxesImage at 0x7f2f5cf42e30>"
            ]
          },
          "metadata": {},
          "execution_count": 128
        },
        {
          "output_type": "display_data",
          "data": {
            "text/plain": [
              "<Figure size 640x480 with 1 Axes>"
            ],
            "image/png": "[encoded data removed]"
          },
          "metadata": {}
        }
      ]
    },
    {
      "cell_type": "code",
      "source": [
        "plt.imshow(random_y[0])"
      ],
      "metadata": {
        "id": "0FtAzRWxKbKI",
        "outputId": "81dc8918-a20d-4f51-b260-77fa6049e399",
        "colab": {
          "base_uri": "https://localhost:8080/",
          "height": 449
        }
      },
      "execution_count": 123,
      "outputs": [
        {
          "output_type": "execute_result",
          "data": {
            "text/plain": [
              "<matplotlib.image.AxesImage at 0x7f2f5e81cd90>"
            ]
          },
          "metadata": {},
          "execution_count": 123
        },
        {
          "output_type": "display_data",
          "data": {
            "text/plain": [
              "<Figure size 640x480 with 1 Axes>"
            ],
            "image/png": "[encoded data removed]"
          },
          "metadata": {}
        }
      ]
    },
    {
      "cell_type": "code",
      "source": [
        "# # # Create a figure and subplot grid\n",
        "# # fig, axs = plt.subplots(5, 1, figsize=(12, 4))\n",
        "\n",
        "# # Loop through the random indices and display the images\n",
        "# for i in range(len(random_x)):\n",
        "#     image = random_x[i]\n",
        "#     prediction = scale_random_x_predict[i]\n",
        "#     display_Image_matrix_with_boxes(image,  [prediction[:4], prediction[4:]])"
      ],
      "metadata": {
        "id": "mRFFzyxvF7jd"
      },
      "execution_count": 105,
      "outputs": []
    },
    {
      "cell_type": "code",
      "source": [
        "model.evaluate(X_test, y_test)"
      ],
      "metadata": {
        "colab": {
          "base_uri": "https://localhost:8080/"
        },
        "id": "EYVj_gVHC6Yv",
        "outputId": "bbdfdffa-3ac0-4942-ec8e-c5cff1350796"
      },
      "execution_count": null,
      "outputs": [
        {
          "output_type": "stream",
          "name": "stdout",
          "text": [
            "7/7 [==============================] - 2s 134ms/step - loss: 0.2060\n"
          ]
        },
        {
          "output_type": "execute_result",
          "data": {
            "text/plain": [
              "0.20602598786354065"
            ]
          },
          "metadata": {},
          "execution_count": 33
        }
      ]
    },
    {
      "cell_type": "code",
      "source": [
        "mask.max()"
      ],
      "metadata": {
        "id": "3R-gVn6nc6cD",
        "outputId": "64c7903f-1044-4b12-a134-c22aec32d647",
        "colab": {
          "base_uri": "https://localhost:8080/"
        }
      },
      "execution_count": null,
      "outputs": [
        {
          "output_type": "execute_result",
          "data": {
            "text/plain": [
              "1"
            ]
          },
          "metadata": {},
          "execution_count": 13
        }
      ]
    }
  ]
}