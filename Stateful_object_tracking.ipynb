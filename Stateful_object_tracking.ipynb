{
  "nbformat": 4,
  "nbformat_minor": 0,
  "metadata": {
    "colab": {
      "provenance": [],
      "gpuType": "T4",
      "authorship_tag": "ABX9TyPnJDJ73n1syBst9TD4PRiz",
      "include_colab_link": true
    },
    "kernelspec": {
      "name": "python3",
      "display_name": "Python 3"
    },
    "language_info": {
      "name": "python"
    },
    "accelerator": "GPU",
    "gpuClass": "standard"
  },
  "cells": [
    {
      "cell_type": "markdown",
      "metadata": {
        "id": "view-in-github",
        "colab_type": "text"
      },
      "source": [
        "<a href=\"https://colab.research.google.com/github/ZackAkil/stateful-object-tracking/blob/main/Stateful_object_tracking.ipynb\" target=\"_parent\"><img src=\"https://colab.research.google.com/assets/colab-badge.svg\" alt=\"Open In Colab\"/></a>"
      ]
    },
    {
      "cell_type": "code",
      "source": [
        "!wget https://github.com/ZackAkil/stateful-object-tracking/raw/main/dummy%20data/labeling_circles/processing-movie.mp4"
      ],
      "metadata": {
        "colab": {
          "base_uri": "https://localhost:8080/"
        },
        "id": "8vLe7ZVDhfaR",
        "outputId": "1134ec14-e60d-497b-b882-eeaa9bfe2f5f"
      },
      "execution_count": 1,
      "outputs": [
        {
          "output_type": "stream",
          "name": "stdout",
          "text": [
            "--2023-05-15 20:19:19--  https://github.com/ZackAkil/stateful-object-tracking/raw/main/dummy%20data/labeling_circles/processing-movie.mp4\n",
            "Resolving github.com (github.com)... 140.82.121.3\n",
            "Connecting to github.com (github.com)|140.82.121.3|:443... connected.\n",
            "HTTP request sent, awaiting response... 302 Found\n",
            "Location: https://raw.githubusercontent.com/ZackAkil/stateful-object-tracking/main/dummy%20data/labeling_circles/processing-movie.mp4 [following]\n",
            "--2023-05-15 20:19:19--  https://raw.githubusercontent.com/ZackAkil/stateful-object-tracking/main/dummy%20data/labeling_circles/processing-movie.mp4\n",
            "Resolving raw.githubusercontent.com (raw.githubusercontent.com)... 185.199.109.133, 185.199.108.133, 185.199.111.133, ...\n",
            "Connecting to raw.githubusercontent.com (raw.githubusercontent.com)|185.199.109.133|:443... connected.\n",
            "HTTP request sent, awaiting response... 200 OK\n",
            "Length: 82346 (80K) [application/octet-stream]\n",
            "Saving to: ‘processing-movie.mp4’\n",
            "\n",
            "processing-movie.mp 100%[===================>]  80.42K  --.-KB/s    in 0.005s  \n",
            "\n",
            "2023-05-15 20:19:20 (15.3 MB/s) - ‘processing-movie.mp4’ saved [82346/82346]\n",
            "\n"
          ]
        }
      ]
    },
    {
      "cell_type": "code",
      "source": [],
      "metadata": {
        "id": "jUa29zQ6DPnl"
      },
      "execution_count": 1,
      "outputs": []
    },
    {
      "cell_type": "code",
      "source": [
        "import cv2\n",
        "import os\n",
        "\n",
        "# Path to the video file\n",
        "video_path = 'processing-movie.mp4'\n",
        "\n",
        "# Open the video file\n",
        "video = cv2.VideoCapture(video_path)\n",
        "\n",
        "# Create the folder to save the images\n",
        "output_folder = 'training_images'\n",
        "os.makedirs(output_folder, exist_ok=True)\n",
        "\n",
        "frame_number = 0\n",
        "\n",
        "while True:\n",
        "    # Set the frame position to the desired frame number\n",
        "    video.set(cv2.CAP_PROP_POS_FRAMES, frame_number)\n",
        "\n",
        "    # Read the frame\n",
        "    success, frame = video.read()\n",
        "\n",
        "    if success:\n",
        "        # Save the frame as an image\n",
        "        image_path = os.path.join(output_folder, f'{frame_number}.jpg')\n",
        "        cv2.imwrite(image_path, frame)\n",
        "        print(f\"Frame {frame_number} saved successfully: {image_path}\")\n",
        "        frame_number += 1\n",
        "    else:\n",
        "        print(\"End of video reached.\")\n",
        "        break\n"
      ],
      "metadata": {
        "id": "NBiwXeVRh2rI"
      },
      "execution_count": null,
      "outputs": []
    },
    {
      "cell_type": "code",
      "source": [
        "!zip -r training_images.zip training_images"
      ],
      "metadata": {
        "id": "mNuBn-IQlro-"
      },
      "execution_count": null,
      "outputs": []
    },
    {
      "cell_type": "code",
      "execution_count": 4,
      "metadata": {
        "colab": {
          "base_uri": "https://localhost:8080/",
          "height": 435
        },
        "id": "BPvGFWkohZw_",
        "outputId": "9141da59-c747-4290-c513-db2eeb920d20"
      },
      "outputs": [
        {
          "output_type": "display_data",
          "data": {
            "text/plain": [
              "<Figure size 640x480 with 1 Axes>"
            ],
            "image/png": "[encoded data removed]"
          },
          "metadata": {}
        }
      ],
      "source": [
        "import matplotlib.pyplot as plt\n",
        "import matplotlib.patches as patches\n",
        "from PIL import Image\n",
        "\n",
        "# Load the image\n",
        "image_path = '/content/training_images/105.jpg'\n",
        "image = Image.open(image_path)\n",
        "\n",
        "# Create figure and axes\n",
        "fig, ax = plt.subplots()\n",
        "\n",
        "# Display the image\n",
        "ax.imshow(image)\n",
        "\n",
        "# Define the bounding box coordinates\n",
        "x_min = 100\n",
        "y_min = 100\n",
        "width = 200\n",
        "height = 150\n",
        "\n",
        "# Create a rectangle patch\n",
        "rect = patches.Rectangle((x_min, y_min), width, height, linewidth=2, edgecolor='r', facecolor='none')\n",
        "# Add the rectangle patch to the axes\n",
        "ax.add_patch(rect)\n",
        "# Show the plot\n",
        "plt.show()"
      ]
    },
    {
      "cell_type": "code",
      "source": [
        "!wget https://raw.githubusercontent.com/ZackAkil/stateful-object-tracking/main/dummy%20data/labeling_circles/bounding_box_coordinates.csv"
      ],
      "metadata": {
        "colab": {
          "base_uri": "https://localhost:8080/"
        },
        "id": "Aqd69MTHiGz0",
        "outputId": "1473d2c6-f077-4897-c0dc-0cb877866723"
      },
      "execution_count": 5,
      "outputs": [
        {
          "output_type": "stream",
          "name": "stdout",
          "text": [
            "--2023-05-15 20:19:56--  https://raw.githubusercontent.com/ZackAkil/stateful-object-tracking/main/dummy%20data/labeling_circles/bounding_box_coordinates.csv\n",
            "Resolving raw.githubusercontent.com (raw.githubusercontent.com)... 185.199.108.133, 185.199.109.133, 185.199.110.133, ...\n",
            "Connecting to raw.githubusercontent.com (raw.githubusercontent.com)|185.199.108.133|:443... connected.\n",
            "HTTP request sent, awaiting response... 200 OK\n",
            "Length: 9314 (9.1K) [text/plain]\n",
            "Saving to: ‘bounding_box_coordinates.csv’\n",
            "\n",
            "\r          bounding_   0%[                    ]       0  --.-KB/s               \rbounding_box_coordi 100%[===================>]   9.10K  --.-KB/s    in 0s      \n",
            "\n",
            "2023-05-15 20:19:56 (74.4 MB/s) - ‘bounding_box_coordinates.csv’ saved [9314/9314]\n",
            "\n"
          ]
        }
      ]
    },
    {
      "cell_type": "code",
      "source": [
        "import csv\n",
        "\n",
        "# Path to the CSV file\n",
        "csv_path = 'bounding_box_coordinates.csv'\n",
        "\n",
        "# Open the CSV file\n",
        "with open(csv_path, 'r') as file:\n",
        "    # Create a CSV reader\n",
        "    reader = csv.reader(file)\n",
        "    \n",
        "    # Initialize an empty list to store the data\n",
        "    data = []\n",
        "    \n",
        "    # Read and process each row\n",
        "    for row in reader:\n",
        "        # Convert row values to numbers and append to the data list\n",
        "        row_numbers = [float(value) for value in row]\n",
        "        data.append(row_numbers)"
      ],
      "metadata": {
        "id": "c0HVwek_iQ41"
      },
      "execution_count": 6,
      "outputs": []
    },
    {
      "cell_type": "code",
      "source": [
        "FRAME_N = 40"
      ],
      "metadata": {
        "id": "Nz68YgAYmLnY"
      },
      "execution_count": 7,
      "outputs": []
    },
    {
      "cell_type": "code",
      "source": [
        "data[FRAME_N]"
      ],
      "metadata": {
        "colab": {
          "base_uri": "https://localhost:8080/"
        },
        "id": "hpw42cknik5A",
        "outputId": "235a214a-8961-4c70-c3bd-05856466ae59"
      },
      "execution_count": 8,
      "outputs": [
        {
          "output_type": "execute_result",
          "data": {
            "text/plain": [
              "[621.0, 671.0, 548.0, 598.0, 539.0, 589.0, 480.0, 530.0]"
            ]
          },
          "metadata": {},
          "execution_count": 8
        }
      ]
    },
    {
      "cell_type": "code",
      "source": [
        "def convert_coordinates(min_x, max_x, min_y, max_y):\n",
        "    x_min = min_x\n",
        "    y_min = min_y\n",
        "    width = max_x - min_x\n",
        "    height = max_y - min_y\n",
        "    return x_min, y_min, width, height\n",
        "\n",
        "def display_image_with_bounding_boxes(image_filename, bounding_boxes):\n",
        "    # Load the image\n",
        "    image = Image.open(image_filename)\n",
        "\n",
        "    display_matrix_with_boxes(image, bounding_boxes)\n",
        "\n",
        "\n",
        "def display_Image_matrix_with_boxes(image, bounding_boxes):\n",
        "\n",
        "    # Create figure and axes\n",
        "    fig, ax = plt.subplots()\n",
        "\n",
        "    # Display the image\n",
        "    ax.imshow(image)\n",
        "\n",
        "    # Add bounding boxes to the plot\n",
        "    for bbox in bounding_boxes:\n",
        "        print(bbox)\n",
        "        x_min, y_min, width, height = convert_coordinates(*bbox)\n",
        "        rect = patches.Rectangle((x_min, y_min), width, height, linewidth=2, edgecolor='r', facecolor='none')\n",
        "        ax.add_patch(rect)\n",
        "\n",
        "    # Show the plot\n",
        "    plt.show()"
      ],
      "metadata": {
        "id": "2EnEwknTimSj"
      },
      "execution_count": 73,
      "outputs": []
    },
    {
      "cell_type": "code",
      "source": [],
      "metadata": {
        "id": "LcegnurFJRGI"
      },
      "execution_count": null,
      "outputs": []
    },
    {
      "cell_type": "code",
      "source": [
        "display_image_with_bounding_boxes(f'training_images/{FRAME_N}.jpg',\n",
        "                                  [data[FRAME_N][:4], data[FRAME_N][4:]])"
      ],
      "metadata": {
        "colab": {
          "base_uri": "https://localhost:8080/",
          "height": 470
        },
        "id": "PAGIvvn1jBtn",
        "outputId": "85519ca2-9ef9-4a44-e008-f18868726a62"
      },
      "execution_count": 10,
      "outputs": [
        {
          "output_type": "stream",
          "name": "stdout",
          "text": [
            "[621.0, 671.0, 548.0, 598.0]\n",
            "[539.0, 589.0, 480.0, 530.0]\n"
          ]
        },
        {
          "output_type": "display_data",
          "data": {
            "text/plain": [
              "<Figure size 640x480 with 1 Axes>"
            ],
            "image/png": "[encoded data removed]"
          },
          "metadata": {}
        }
      ]
    },
    {
      "cell_type": "code",
      "source": [
        "import os\n",
        "import cv2\n",
        "import numpy as np"
      ],
      "metadata": {
        "id": "ECV-7W9i-TAA"
      },
      "execution_count": 11,
      "outputs": []
    },
    {
      "cell_type": "code",
      "source": [
        "# Folder path containing the images\n",
        "folder_path = 'training_images'\n",
        "\n",
        "# Get a list of image file names in the folder\n",
        "image_count = len(os.listdir(folder_path))\n",
        "\n",
        "# Initialize an empty list to store the loaded images\n",
        "images = []\n",
        "\n",
        "# Loop through the images in the folder\n",
        "for i in range(image_count):  # Assuming you have 100 images (adjust the range accordingly)\n",
        "    image_path = os.path.join(folder_path, f'{i}.jpg')\n",
        "    image = cv2.imread(image_path)\n",
        "    image = cv2.cvtColor(image, cv2.COLOR_BGR2RGB)  # Convert BGR to RGB if needed\n",
        "    # image = preprocess_image(image)  # Preprocess the image (if necessary)\n",
        "    images.append(image)\n",
        "\n",
        "# Convert the list of images to a numpy array\n",
        "images = np.array(images)"
      ],
      "metadata": {
        "id": "QF_8bLB5-Tt4"
      },
      "execution_count": 12,
      "outputs": []
    },
    {
      "cell_type": "code",
      "source": [
        "plt.imshow(images[5])"
      ],
      "metadata": {
        "id": "1EgsIDWS-bJR",
        "outputId": "18a774f2-4b0c-4f86-c130-f82bc6651ed1",
        "colab": {
          "base_uri": "https://localhost:8080/",
          "height": 452
        }
      },
      "execution_count": 13,
      "outputs": [
        {
          "output_type": "execute_result",
          "data": {
            "text/plain": [
              "<matplotlib.image.AxesImage at 0x7fdbbfc4a560>"
            ]
          },
          "metadata": {},
          "execution_count": 13
        },
        {
          "output_type": "display_data",
          "data": {
            "text/plain": [
              "<Figure size 640x480 with 1 Axes>"
            ],
            "image/png": "[encoded data removed]"
          },
          "metadata": {}
        }
      ]
    },
    {
      "cell_type": "code",
      "source": [
        "X = images / 255."
      ],
      "metadata": {
        "id": "9KMtv4XUAGWD"
      },
      "execution_count": 14,
      "outputs": []
    },
    {
      "cell_type": "code",
      "source": [
        "X.shape"
      ],
      "metadata": {
        "id": "A-jIbpLnAJCU",
        "outputId": "53ed3228-b0b0-418d-b254-6ac19597efd5",
        "colab": {
          "base_uri": "https://localhost:8080/"
        }
      },
      "execution_count": 15,
      "outputs": [
        {
          "output_type": "execute_result",
          "data": {
            "text/plain": [
              "(300, 600, 800, 3)"
            ]
          },
          "metadata": {},
          "execution_count": 15
        }
      ]
    },
    {
      "cell_type": "code",
      "source": [
        "# min_x, max_x, min_y, max_y"
      ],
      "metadata": {
        "id": "jsR0qU5RA9UH"
      },
      "execution_count": 16,
      "outputs": []
    },
    {
      "cell_type": "code",
      "source": [
        "data[0]"
      ],
      "metadata": {
        "id": "WIQjG0jjAzsK",
        "outputId": "56cccf8e-4065-416a-ec27-bc93daecf1a9",
        "colab": {
          "base_uri": "https://localhost:8080/"
        }
      },
      "execution_count": 17,
      "outputs": [
        {
          "output_type": "execute_result",
          "data": {
            "text/plain": [
              "[381.0, 431.0, 282.0, 332.0, 379.0, 429.0, 280.0, 330.0]"
            ]
          },
          "metadata": {},
          "execution_count": 17
        }
      ]
    },
    {
      "cell_type": "code",
      "source": [
        "# normalise label coordinates\n",
        "\n",
        "np_labels = np.array(data)\n",
        "\n",
        "# Scaling factors for each column\n",
        "scaling_factors = np.array([800., 800., 600., 600., 800., 800., 600., 600.])\n",
        "\n",
        "# Scale the columns by different values\n",
        "scaled_matrix = np_labels / scaling_factors\n",
        "\n",
        "print(scaled_matrix)"
      ],
      "metadata": {
        "id": "_vAzEunSAta-",
        "outputId": "86dcb613-f043-48d7-f6ce-d4a8f8859f93",
        "colab": {
          "base_uri": "https://localhost:8080/"
        }
      },
      "execution_count": 18,
      "outputs": [
        {
          "output_type": "stream",
          "name": "stdout",
          "text": [
            "[[0.47625    0.53875    0.47       ... 0.53625    0.46666667 0.55      ]\n",
            " [0.48375    0.54625    0.48166667 ... 0.54125    0.475      0.55833333]\n",
            " [0.49125    0.55375    0.49333333 ... 0.54625    0.48333333 0.56666667]\n",
            " ...\n",
            " [0.81375    0.87625    0.20166667 ... 0.14125    0.725      0.80833333]\n",
            " [0.82125    0.88375    0.21333333 ... 0.14625    0.71666667 0.8       ]\n",
            " [0.82875    0.89125    0.225      ... 0.15125    0.70833333 0.79166667]]\n"
          ]
        }
      ]
    },
    {
      "cell_type": "code",
      "source": [
        "scaled_matrix.shape"
      ],
      "metadata": {
        "id": "ioyNhGtSBoLA",
        "outputId": "d704cf9d-aff6-4f78-b210-a576b771ca3b",
        "colab": {
          "base_uri": "https://localhost:8080/"
        }
      },
      "execution_count": 19,
      "outputs": [
        {
          "output_type": "execute_result",
          "data": {
            "text/plain": [
              "(300, 8)"
            ]
          },
          "metadata": {},
          "execution_count": 19
        }
      ]
    },
    {
      "cell_type": "code",
      "source": [
        "y = scaled_matrix"
      ],
      "metadata": {
        "id": "NYXdWazKAS4B"
      },
      "execution_count": 20,
      "outputs": []
    },
    {
      "cell_type": "code",
      "source": [
        "X.shape, y.shape"
      ],
      "metadata": {
        "id": "dLoheKzKBz_B",
        "outputId": "59048974-056e-4e82-c1c8-ccb561c3cb0b",
        "colab": {
          "base_uri": "https://localhost:8080/"
        }
      },
      "execution_count": 21,
      "outputs": [
        {
          "output_type": "execute_result",
          "data": {
            "text/plain": [
              "((300, 600, 800, 3), (300, 8))"
            ]
          },
          "metadata": {},
          "execution_count": 21
        }
      ]
    },
    {
      "cell_type": "code",
      "source": [
        "from sklearn.model_selection import train_test_split"
      ],
      "metadata": {
        "id": "So76C-bnCMTL"
      },
      "execution_count": 22,
      "outputs": []
    },
    {
      "cell_type": "code",
      "source": [
        "X_train = X[:100] \n",
        "X_test = X[100:] \n",
        "y_train = y[:100] \n",
        "y_test = y[100:] \n",
        "\n",
        "X_train.shape, X_test.shape, y_train.shape, y_test.shape"
      ],
      "metadata": {
        "id": "PB_Sf0mlCd9e",
        "outputId": "34d2e0ff-a0bb-4db3-a22e-a4a06acda608",
        "colab": {
          "base_uri": "https://localhost:8080/"
        }
      },
      "execution_count": 23,
      "outputs": [
        {
          "output_type": "execute_result",
          "data": {
            "text/plain": [
              "((100, 600, 800, 3), (200, 600, 800, 3), (100, 8), (200, 8))"
            ]
          },
          "metadata": {},
          "execution_count": 23
        }
      ]
    },
    {
      "cell_type": "code",
      "source": [
        "# X_train, X_test, y_train, y_test = train_test_split(X, y, \n",
        "#                                       test_size=0.2, random_state=42)"
      ],
      "metadata": {
        "id": "zAesQWLxCPSI"
      },
      "execution_count": 24,
      "outputs": []
    },
    {
      "cell_type": "code",
      "source": [
        "import numpy as np\n",
        "from tensorflow import keras\n",
        "from tensorflow.keras.models import Model\n",
        "from tensorflow.keras.layers import Input, Conv2D, MaxPooling2D, Flatten, Dense\n"
      ],
      "metadata": {
        "id": "G2ndlONdBuqB"
      },
      "execution_count": 25,
      "outputs": []
    },
    {
      "cell_type": "code",
      "source": [
        "\n",
        "# Load and preprocess your dataset\n",
        "# X_train: input images\n",
        "# y_train: bounding box coordinates of the two objects\n",
        "image_height=600\n",
        "image_width=800\n",
        "image_channels=3"
      ],
      "metadata": {
        "id": "y5qCSXpWBv4s"
      },
      "execution_count": 26,
      "outputs": []
    },
    {
      "cell_type": "code",
      "source": [
        "\n",
        "\n",
        "# Define the model architecture\n",
        "input_shape = (image_height, image_width, image_channels)\n",
        "inputs = Input(shape=input_shape)\n",
        "x = Conv2D(16, kernel_size=(3, 3), activation='relu')(inputs)\n",
        "x = MaxPooling2D(pool_size=(4, 4))(x)\n",
        "x = Conv2D(32, kernel_size=(3, 3), activation='relu')(x)\n",
        "x = MaxPooling2D(pool_size=(4, 4))(x)\n",
        "x = Conv2D(64, kernel_size=(3, 3), activation='relu')(x)\n",
        "x = MaxPooling2D(pool_size=(4, 4))(x)\n",
        "x = Conv2D(128, kernel_size=(3, 3), activation='relu')(x)\n",
        "x = MaxPooling2D(pool_size=(4, 4))(x)\n",
        "x = Flatten()(x)\n",
        "x = Dense(64, activation='relu')(x)\n",
        "x = Dense(32, activation='relu')(x)\n",
        "output = Dense(8, activation='linear')(x)  # Output layer with 8 neurons for 2 bounding box coordinates\n",
        "\n"
      ],
      "metadata": {
        "id": "VNIVD77CjJ30"
      },
      "execution_count": 41,
      "outputs": []
    },
    {
      "cell_type": "code",
      "source": [
        "model = Model(inputs=inputs, outputs=output)\n",
        "\n",
        "# Compile the model\n",
        "model.compile(optimizer='adam', loss='mean_squared_error')\n"
      ],
      "metadata": {
        "id": "TapyjZiCC1KD"
      },
      "execution_count": 42,
      "outputs": []
    },
    {
      "cell_type": "code",
      "source": [
        "model.summary()"
      ],
      "metadata": {
        "id": "HxCA5y-EDstK",
        "outputId": "9423c854-181e-428e-dd04-c1b4d3e314c1",
        "colab": {
          "base_uri": "https://localhost:8080/"
        }
      },
      "execution_count": 43,
      "outputs": [
        {
          "output_type": "stream",
          "name": "stdout",
          "text": [
            "Model: \"model_2\"\n",
            "_________________________________________________________________\n",
            " Layer (type)                Output Shape              Param #   \n",
            "=================================================================\n",
            " input_2 (InputLayer)        [(None, 600, 800, 3)]     0         \n",
            "                                                                 \n",
            " conv2d_4 (Conv2D)           (None, 598, 798, 16)      448       \n",
            "                                                                 \n",
            " max_pooling2d_4 (MaxPooling  (None, 149, 199, 16)     0         \n",
            " 2D)                                                             \n",
            "                                                                 \n",
            " conv2d_5 (Conv2D)           (None, 147, 197, 32)      4640      \n",
            "                                                                 \n",
            " max_pooling2d_5 (MaxPooling  (None, 36, 49, 32)       0         \n",
            " 2D)                                                             \n",
            "                                                                 \n",
            " conv2d_6 (Conv2D)           (None, 34, 47, 64)        18496     \n",
            "                                                                 \n",
            " max_pooling2d_6 (MaxPooling  (None, 8, 11, 64)        0         \n",
            " 2D)                                                             \n",
            "                                                                 \n",
            " conv2d_7 (Conv2D)           (None, 6, 9, 128)         73856     \n",
            "                                                                 \n",
            " max_pooling2d_7 (MaxPooling  (None, 1, 2, 128)        0         \n",
            " 2D)                                                             \n",
            "                                                                 \n",
            " flatten_1 (Flatten)         (None, 256)               0         \n",
            "                                                                 \n",
            " dense_3 (Dense)             (None, 64)                16448     \n",
            "                                                                 \n",
            " dense_4 (Dense)             (None, 32)                2080      \n",
            "                                                                 \n",
            " dense_5 (Dense)             (None, 8)                 264       \n",
            "                                                                 \n",
            "=================================================================\n",
            "Total params: 116,232\n",
            "Trainable params: 116,232\n",
            "Non-trainable params: 0\n",
            "_________________________________________________________________\n"
          ]
        }
      ]
    },
    {
      "cell_type": "code",
      "source": [
        "# Compile the model\n",
        "model.compile(optimizer='adam', loss='mean_squared_error')"
      ],
      "metadata": {
        "id": "WadBHMwGMPJR"
      },
      "execution_count": 90,
      "outputs": []
    },
    {
      "cell_type": "code",
      "source": [
        "# Train the model\n",
        "# model.fit(X_train, y_train, batch_size=6, epochs=20, verbose=1)\n",
        "history = model.fit(X_train, y_train, epochs=10, batch_size=10, validation_data=(X_test, y_test))\n",
        "\n"
      ],
      "metadata": {
        "id": "-f-VyJBDC5Or",
        "outputId": "1b7d52a5-b513-42a3-eb0f-f349146a6ac8",
        "colab": {
          "base_uri": "https://localhost:8080/"
        }
      },
      "execution_count": 98,
      "outputs": [
        {
          "output_type": "stream",
          "name": "stdout",
          "text": [
            "Epoch 1/10\n",
            "10/10 [==============================] - 11s 1s/step - loss: 0.2477 - val_loss: 0.0840\n",
            "Epoch 2/10\n",
            "10/10 [==============================] - 8s 863ms/step - loss: 0.2302 - val_loss: 0.0765\n",
            "Epoch 3/10\n",
            "10/10 [==============================] - 13s 1s/step - loss: 0.2071 - val_loss: 0.0746\n",
            "Epoch 4/10\n",
            "10/10 [==============================] - 8s 868ms/step - loss: 0.1748 - val_loss: 0.0739\n",
            "Epoch 5/10\n",
            "10/10 [==============================] - 8s 863ms/step - loss: 0.1555 - val_loss: 0.0729\n",
            "Epoch 6/10\n",
            "10/10 [==============================] - 8s 875ms/step - loss: 0.1823 - val_loss: 0.0812\n",
            "Epoch 7/10\n",
            "10/10 [==============================] - 8s 873ms/step - loss: 0.1912 - val_loss: 0.0725\n",
            "Epoch 8/10\n",
            "10/10 [==============================] - 8s 868ms/step - loss: 0.1782 - val_loss: 0.0741\n",
            "Epoch 9/10\n",
            "10/10 [==============================] - 8s 881ms/step - loss: 0.1619 - val_loss: 0.0738\n",
            "Epoch 10/10\n",
            "10/10 [==============================] - 8s 885ms/step - loss: 0.1611 - val_loss: 0.0715\n"
          ]
        }
      ]
    },
    {
      "cell_type": "code",
      "source": [
        "# Extract training and validation metrics from the history object\n",
        "train_loss = history.history['loss']\n",
        "# train_acc = history.history['accuracy']\n",
        "val_loss = history.history['val_loss']\n",
        "# val_acc = history.history['val_accuracy']\n",
        "\n",
        "# Plot the train-test curve\n",
        "epochs = range(1, len(train_loss) + 1)\n",
        "\n",
        "plt.figure()\n",
        "plt.plot(epochs, train_loss, 'b', label='Training Loss')\n",
        "plt.plot(epochs, val_loss, 'r', label='Validation Loss')\n",
        "plt.title('Train-Test Curve: Loss')\n",
        "plt.xlabel('Epochs')\n",
        "plt.ylabel('Loss')\n",
        "plt.legend()\n",
        "plt.show()\n",
        "\n",
        "# plt.figure()\n",
        "# plt.plot(epochs, train_acc, 'b', label='Training Accuracy')\n",
        "# plt.plot(epochs, val_acc, 'r', label='Validation Accuracy')\n",
        "# plt.title('Train-Test Curve: Accuracy')\n",
        "# plt.xlabel('Epochs')\n",
        "# plt.ylabel('Accuracy')\n",
        "# plt.legend()\n",
        "# plt.show()"
      ],
      "metadata": {
        "id": "nt9czcaKFdHw",
        "outputId": "85ea05de-584a-4b4e-cee2-ee3d36f98994",
        "colab": {
          "base_uri": "https://localhost:8080/",
          "height": 472
        }
      },
      "execution_count": 99,
      "outputs": [
        {
          "output_type": "display_data",
          "data": {
            "text/plain": [
              "<Figure size 640x480 with 1 Axes>"
            ],
            "image/png": "[encoded data removed]"
          },
          "metadata": {}
        }
      ]
    },
    {
      "cell_type": "code",
      "source": [
        "# images = X_test\n",
        "\n",
        "np.random.seed(42)\n",
        "# Sample 5 random indices\n",
        "random_indices = np.random.choice(X_train.shape[0], size=5, replace=False)\n",
        "\n",
        "random_x = X_train[random_indices]\n",
        "random_y = y_train[random_indices]"
      ],
      "metadata": {
        "id": "bmp-J5h7IU5B"
      },
      "execution_count": 100,
      "outputs": []
    },
    {
      "cell_type": "code",
      "source": [
        "random_y"
      ],
      "metadata": {
        "id": "zx7s5IdQIuee",
        "outputId": "e2ea70fb-23b1-4855-f8db-7498e07bd843",
        "colab": {
          "base_uri": "https://localhost:8080/"
        }
      },
      "execution_count": 101,
      "outputs": [
        {
          "output_type": "execute_result",
          "data": {
            "text/plain": [
              "array([[0.78375   , 0.84625   , 0.41166667, 0.495     , 0.88875   ,\n",
              "        0.95125   , 0.675     , 0.75833333],\n",
              "       [0.87375   , 0.93625   , 0.76166667, 0.845     , 0.73875   ,\n",
              "        0.80125   , 0.90833333, 0.99166667],\n",
              "       [0.88125   , 0.94375   , 0.56333333, 0.64666667, 0.82375   ,\n",
              "        0.88625   , 0.78333333, 0.86666667],\n",
              "       [0.81375   , 0.87625   , 0.855     , 0.93833333, 0.69875   ,\n",
              "        0.76125   , 0.84166667, 0.925     ],\n",
              "       [0.80625   , 0.86875   , 0.86666667, 0.95      , 0.69375   ,\n",
              "        0.75625   , 0.83333333, 0.91666667]])"
            ]
          },
          "metadata": {},
          "execution_count": 101
        }
      ]
    },
    {
      "cell_type": "code",
      "source": [
        "random_x_predict = model.predict(random_x)"
      ],
      "metadata": {
        "id": "1bq6tM0fIwZL",
        "outputId": "e3354acb-82ca-45c3-9165-10446df80db6",
        "colab": {
          "base_uri": "https://localhost:8080/"
        }
      },
      "execution_count": 102,
      "outputs": [
        {
          "output_type": "stream",
          "name": "stdout",
          "text": [
            "1/1 [==============================] - 0s 53ms/step\n"
          ]
        }
      ]
    },
    {
      "cell_type": "code",
      "source": [
        "scale_random_x_predict = random_x_predict * scaling_factors\n",
        "scale_random_x_predict\n"
      ],
      "metadata": {
        "id": "95TK8oW9I19M",
        "outputId": "5559505c-26d6-49b0-91ce-a4b43e65fea6",
        "colab": {
          "base_uri": "https://localhost:8080/"
        }
      },
      "execution_count": 103,
      "outputs": [
        {
          "output_type": "execute_result",
          "data": {
            "text/plain": [
              "array([[319.58236694, 388.28833103, 239.41192031, 240.01414776,\n",
              "        313.26408386, 341.69616699, 280.32765985, 301.12549067],\n",
              "       [341.96987152, 425.25177002, 267.26108193, 257.01831579,\n",
              "        336.72075272, 365.84839821, 307.39502907, 337.39578724],\n",
              "       [332.47585297, 411.21244431, 256.99616075, 250.20037293,\n",
              "        327.43253708, 355.99308014, 297.38300443, 324.45759773],\n",
              "       [345.58348656, 427.70061493, 268.43377948, 258.91769528,\n",
              "        339.08963203, 368.91465187, 308.61060619, 337.99721003],\n",
              "       [345.71456909, 427.55670547, 268.25648546, 258.93069506,\n",
              "        339.0818119 , 368.97082329, 308.44606161, 337.6714468 ]])"
            ]
          },
          "metadata": {},
          "execution_count": 103
        }
      ]
    },
    {
      "cell_type": "code",
      "source": [],
      "metadata": {
        "id": "0FtAzRWxKbKI"
      },
      "execution_count": 103,
      "outputs": []
    },
    {
      "cell_type": "code",
      "source": [
        "# # Create a figure and subplot grid\n",
        "# fig, axs = plt.subplots(5, 1, figsize=(12, 4))\n",
        "\n",
        "# Loop through the random indices and display the images\n",
        "for i in range(len(random_x)):\n",
        "    image = random_x[i]\n",
        "    prediction = scale_random_x_predict[i]\n",
        "    display_Image_matrix_with_boxes(image,  [prediction[:4], prediction[4:]])"
      ],
      "metadata": {
        "id": "mRFFzyxvF7jd",
        "outputId": "2c3c47c5-c8cb-469a-d7ba-13275479c40f",
        "colab": {
          "base_uri": "https://localhost:8080/",
          "height": 1000
        }
      },
      "execution_count": 104,
      "outputs": [
        {
          "output_type": "stream",
          "name": "stdout",
          "text": [
            "[319.58236694 388.28833103 239.41192031 240.01414776]\n",
            "[313.26408386 341.69616699 280.32765985 301.12549067]\n"
          ]
        },
        {
          "output_type": "display_data",
          "data": {
            "text/plain": [
              "<Figure size 640x480 with 1 Axes>"
            ],
            "image/png": "[encoded data removed]"
          },
          "metadata": {}
        },
        {
          "output_type": "stream",
          "name": "stdout",
          "text": [
            "[341.96987152 425.25177002 267.26108193 257.01831579]\n",
            "[336.72075272 365.84839821 307.39502907 337.39578724]\n"
          ]
        },
        {
          "output_type": "display_data",
          "data": {
            "text/plain": [
              "<Figure size 640x480 with 1 Axes>"
            ],
            "image/png": "[encoded data removed]"
          },
          "metadata": {}
        },
        {
          "output_type": "stream",
          "name": "stdout",
          "text": [
            "[332.47585297 411.21244431 256.99616075 250.20037293]\n",
            "[327.43253708 355.99308014 297.38300443 324.45759773]\n"
          ]
        },
        {
          "output_type": "display_data",
          "data": {
            "text/plain": [
              "<Figure size 640x480 with 1 Axes>"
            ],
            "image/png": "[encoded data removed]"
          },
          "metadata": {}
        },
        {
          "output_type": "stream",
          "name": "stdout",
          "text": [
            "[345.58348656 427.70061493 268.43377948 258.91769528]\n",
            "[339.08963203 368.91465187 308.61060619 337.99721003]\n"
          ]
        },
        {
          "output_type": "display_data",
          "data": {
            "text/plain": [
              "<Figure size 640x480 with 1 Axes>"
            ],
            "image/png": "[encoded data removed]"
          },
          "metadata": {}
        },
        {
          "output_type": "stream",
          "name": "stdout",
          "text": [
            "[345.71456909 427.55670547 268.25648546 258.93069506]\n",
            "[339.0818119  368.97082329 308.44606161 337.6714468 ]\n"
          ]
        },
        {
          "output_type": "display_data",
          "data": {
            "text/plain": [
              "<Figure size 640x480 with 1 Axes>"
            ],
            "image/png": "[encoded data removed]"
          },
          "metadata": {}
        }
      ]
    },
    {
      "cell_type": "code",
      "source": [
        "model.evaluate(X_test, y_test)"
      ],
      "metadata": {
        "id": "EYVj_gVHC6Yv",
        "outputId": "bbdfdffa-3ac0-4942-ec8e-c5cff1350796",
        "colab": {
          "base_uri": "https://localhost:8080/"
        }
      },
      "execution_count": 33,
      "outputs": [
        {
          "output_type": "stream",
          "name": "stdout",
          "text": [
            "7/7 [==============================] - 2s 134ms/step - loss: 0.2060\n"
          ]
        },
        {
          "output_type": "execute_result",
          "data": {
            "text/plain": [
              "0.20602598786354065"
            ]
          },
          "metadata": {},
          "execution_count": 33
        }
      ]
    },
    {
      "cell_type": "code",
      "source": [
        "from tensorflow import keras\n",
        "from tensorflow.keras import layers\n",
        "\n",
        "def custom_object_detection_model(input_shape):\n",
        "    # Backbone CNN\n",
        "    backbone = keras.applications.ResNet50(\n",
        "        include_top=False,  # Exclude fully-connected layers\n",
        "        weights='imagenet',  # Pre-trained weights\n",
        "        input_shape=input_shape,\n",
        "    )\n",
        "    \n",
        "    # Freeze the backbone layers to prevent training\n",
        "    backbone.trainable = False\n",
        "    \n",
        "    # Create the detection head\n",
        "    detection_head = backbone.output\n",
        "    detection_head = layers.GlobalAveragePooling2D()(detection_head)\n",
        "    detection_head = layers.Dense(64, activation='relu')(detection_head)\n",
        "    detection_head = layers.Dropout(0.5)(detection_head)\n",
        "    detection_head = layers.Dense(8, activation='linear')(detection_head)\n",
        "    \n",
        "    # Combine the backbone and detection head into a single model\n",
        "    model = keras.Model(inputs=backbone.input, outputs=detection_head)\n",
        "    \n",
        "    return model\n",
        "\n",
        "# Example usage:\n",
        "input_shape = (600, 800, 3)  # Specify the input shape of your images\n",
        "\n",
        "model = custom_object_detection_model(input_shape)\n",
        "model.summary()"
      ],
      "metadata": {
        "id": "qEv2xhD4E89g",
        "outputId": "cc2bfb76-bc7d-452c-b590-b772478f04d5",
        "colab": {
          "base_uri": "https://localhost:8080/"
        }
      },
      "execution_count": 88,
      "outputs": [
        {
          "output_type": "stream",
          "name": "stdout",
          "text": [
            "Model: \"model_5\"\n",
            "__________________________________________________________________________________________________\n",
            " Layer (type)                   Output Shape         Param #     Connected to                     \n",
            "==================================================================================================\n",
            " input_6 (InputLayer)           [(None, 600, 800, 3  0           []                               \n",
            "                                )]                                                                \n",
            "                                                                                                  \n",
            " conv1_pad (ZeroPadding2D)      (None, 606, 806, 3)  0           ['input_6[0][0]']                \n",
            "                                                                                                  \n",
            " conv1_conv (Conv2D)            (None, 300, 400, 64  9472        ['conv1_pad[0][0]']              \n",
            "                                )                                                                 \n",
            "                                                                                                  \n",
            " conv1_bn (BatchNormalization)  (None, 300, 400, 64  256         ['conv1_conv[0][0]']             \n",
            "                                )                                                                 \n",
            "                                                                                                  \n",
            " conv1_relu (Activation)        (None, 300, 400, 64  0           ['conv1_bn[0][0]']               \n",
            "                                )                                                                 \n",
            "                                                                                                  \n",
            " pool1_pad (ZeroPadding2D)      (None, 302, 402, 64  0           ['conv1_relu[0][0]']             \n",
            "                                )                                                                 \n",
            "                                                                                                  \n",
            " pool1_pool (MaxPooling2D)      (None, 150, 200, 64  0           ['pool1_pad[0][0]']              \n",
            "                                )                                                                 \n",
            "                                                                                                  \n",
            " conv2_block1_1_conv (Conv2D)   (None, 150, 200, 64  4160        ['pool1_pool[0][0]']             \n",
            "                                )                                                                 \n",
            "                                                                                                  \n",
            " conv2_block1_1_bn (BatchNormal  (None, 150, 200, 64  256        ['conv2_block1_1_conv[0][0]']    \n",
            " ization)                       )                                                                 \n",
            "                                                                                                  \n",
            " conv2_block1_1_relu (Activatio  (None, 150, 200, 64  0          ['conv2_block1_1_bn[0][0]']      \n",
            " n)                             )                                                                 \n",
            "                                                                                                  \n",
            " conv2_block1_2_conv (Conv2D)   (None, 150, 200, 64  36928       ['conv2_block1_1_relu[0][0]']    \n",
            "                                )                                                                 \n",
            "                                                                                                  \n",
            " conv2_block1_2_bn (BatchNormal  (None, 150, 200, 64  256        ['conv2_block1_2_conv[0][0]']    \n",
            " ization)                       )                                                                 \n",
            "                                                                                                  \n",
            " conv2_block1_2_relu (Activatio  (None, 150, 200, 64  0          ['conv2_block1_2_bn[0][0]']      \n",
            " n)                             )                                                                 \n",
            "                                                                                                  \n",
            " conv2_block1_0_conv (Conv2D)   (None, 150, 200, 25  16640       ['pool1_pool[0][0]']             \n",
            "                                6)                                                                \n",
            "                                                                                                  \n",
            " conv2_block1_3_conv (Conv2D)   (None, 150, 200, 25  16640       ['conv2_block1_2_relu[0][0]']    \n",
            "                                6)                                                                \n",
            "                                                                                                  \n",
            " conv2_block1_0_bn (BatchNormal  (None, 150, 200, 25  1024       ['conv2_block1_0_conv[0][0]']    \n",
            " ization)                       6)                                                                \n",
            "                                                                                                  \n",
            " conv2_block1_3_bn (BatchNormal  (None, 150, 200, 25  1024       ['conv2_block1_3_conv[0][0]']    \n",
            " ization)                       6)                                                                \n",
            "                                                                                                  \n",
            " conv2_block1_add (Add)         (None, 150, 200, 25  0           ['conv2_block1_0_bn[0][0]',      \n",
            "                                6)                                'conv2_block1_3_bn[0][0]']      \n",
            "                                                                                                  \n",
            " conv2_block1_out (Activation)  (None, 150, 200, 25  0           ['conv2_block1_add[0][0]']       \n",
            "                                6)                                                                \n",
            "                                                                                                  \n",
            " conv2_block2_1_conv (Conv2D)   (None, 150, 200, 64  16448       ['conv2_block1_out[0][0]']       \n",
            "                                )                                                                 \n",
            "                                                                                                  \n",
            " conv2_block2_1_bn (BatchNormal  (None, 150, 200, 64  256        ['conv2_block2_1_conv[0][0]']    \n",
            " ization)                       )                                                                 \n",
            "                                                                                                  \n",
            " conv2_block2_1_relu (Activatio  (None, 150, 200, 64  0          ['conv2_block2_1_bn[0][0]']      \n",
            " n)                             )                                                                 \n",
            "                                                                                                  \n",
            " conv2_block2_2_conv (Conv2D)   (None, 150, 200, 64  36928       ['conv2_block2_1_relu[0][0]']    \n",
            "                                )                                                                 \n",
            "                                                                                                  \n",
            " conv2_block2_2_bn (BatchNormal  (None, 150, 200, 64  256        ['conv2_block2_2_conv[0][0]']    \n",
            " ization)                       )                                                                 \n",
            "                                                                                                  \n",
            " conv2_block2_2_relu (Activatio  (None, 150, 200, 64  0          ['conv2_block2_2_bn[0][0]']      \n",
            " n)                             )                                                                 \n",
            "                                                                                                  \n",
            " conv2_block2_3_conv (Conv2D)   (None, 150, 200, 25  16640       ['conv2_block2_2_relu[0][0]']    \n",
            "                                6)                                                                \n",
            "                                                                                                  \n",
            " conv2_block2_3_bn (BatchNormal  (None, 150, 200, 25  1024       ['conv2_block2_3_conv[0][0]']    \n",
            " ization)                       6)                                                                \n",
            "                                                                                                  \n",
            " conv2_block2_add (Add)         (None, 150, 200, 25  0           ['conv2_block1_out[0][0]',       \n",
            "                                6)                                'conv2_block2_3_bn[0][0]']      \n",
            "                                                                                                  \n",
            " conv2_block2_out (Activation)  (None, 150, 200, 25  0           ['conv2_block2_add[0][0]']       \n",
            "                                6)                                                                \n",
            "                                                                                                  \n",
            " conv2_block3_1_conv (Conv2D)   (None, 150, 200, 64  16448       ['conv2_block2_out[0][0]']       \n",
            "                                )                                                                 \n",
            "                                                                                                  \n",
            " conv2_block3_1_bn (BatchNormal  (None, 150, 200, 64  256        ['conv2_block3_1_conv[0][0]']    \n",
            " ization)                       )                                                                 \n",
            "                                                                                                  \n",
            " conv2_block3_1_relu (Activatio  (None, 150, 200, 64  0          ['conv2_block3_1_bn[0][0]']      \n",
            " n)                             )                                                                 \n",
            "                                                                                                  \n",
            " conv2_block3_2_conv (Conv2D)   (None, 150, 200, 64  36928       ['conv2_block3_1_relu[0][0]']    \n",
            "                                )                                                                 \n",
            "                                                                                                  \n",
            " conv2_block3_2_bn (BatchNormal  (None, 150, 200, 64  256        ['conv2_block3_2_conv[0][0]']    \n",
            " ization)                       )                                                                 \n",
            "                                                                                                  \n",
            " conv2_block3_2_relu (Activatio  (None, 150, 200, 64  0          ['conv2_block3_2_bn[0][0]']      \n",
            " n)                             )                                                                 \n",
            "                                                                                                  \n",
            " conv2_block3_3_conv (Conv2D)   (None, 150, 200, 25  16640       ['conv2_block3_2_relu[0][0]']    \n",
            "                                6)                                                                \n",
            "                                                                                                  \n",
            " conv2_block3_3_bn (BatchNormal  (None, 150, 200, 25  1024       ['conv2_block3_3_conv[0][0]']    \n",
            " ization)                       6)                                                                \n",
            "                                                                                                  \n",
            " conv2_block3_add (Add)         (None, 150, 200, 25  0           ['conv2_block2_out[0][0]',       \n",
            "                                6)                                'conv2_block3_3_bn[0][0]']      \n",
            "                                                                                                  \n",
            " conv2_block3_out (Activation)  (None, 150, 200, 25  0           ['conv2_block3_add[0][0]']       \n",
            "                                6)                                                                \n",
            "                                                                                                  \n",
            " conv3_block1_1_conv (Conv2D)   (None, 75, 100, 128  32896       ['conv2_block3_out[0][0]']       \n",
            "                                )                                                                 \n",
            "                                                                                                  \n",
            " conv3_block1_1_bn (BatchNormal  (None, 75, 100, 128  512        ['conv3_block1_1_conv[0][0]']    \n",
            " ization)                       )                                                                 \n",
            "                                                                                                  \n",
            " conv3_block1_1_relu (Activatio  (None, 75, 100, 128  0          ['conv3_block1_1_bn[0][0]']      \n",
            " n)                             )                                                                 \n",
            "                                                                                                  \n",
            " conv3_block1_2_conv (Conv2D)   (None, 75, 100, 128  147584      ['conv3_block1_1_relu[0][0]']    \n",
            "                                )                                                                 \n",
            "                                                                                                  \n",
            " conv3_block1_2_bn (BatchNormal  (None, 75, 100, 128  512        ['conv3_block1_2_conv[0][0]']    \n",
            " ization)                       )                                                                 \n",
            "                                                                                                  \n",
            " conv3_block1_2_relu (Activatio  (None, 75, 100, 128  0          ['conv3_block1_2_bn[0][0]']      \n",
            " n)                             )                                                                 \n",
            "                                                                                                  \n",
            " conv3_block1_0_conv (Conv2D)   (None, 75, 100, 512  131584      ['conv2_block3_out[0][0]']       \n",
            "                                )                                                                 \n",
            "                                                                                                  \n",
            " conv3_block1_3_conv (Conv2D)   (None, 75, 100, 512  66048       ['conv3_block1_2_relu[0][0]']    \n",
            "                                )                                                                 \n",
            "                                                                                                  \n",
            " conv3_block1_0_bn (BatchNormal  (None, 75, 100, 512  2048       ['conv3_block1_0_conv[0][0]']    \n",
            " ization)                       )                                                                 \n",
            "                                                                                                  \n",
            " conv3_block1_3_bn (BatchNormal  (None, 75, 100, 512  2048       ['conv3_block1_3_conv[0][0]']    \n",
            " ization)                       )                                                                 \n",
            "                                                                                                  \n",
            " conv3_block1_add (Add)         (None, 75, 100, 512  0           ['conv3_block1_0_bn[0][0]',      \n",
            "                                )                                 'conv3_block1_3_bn[0][0]']      \n",
            "                                                                                                  \n",
            " conv3_block1_out (Activation)  (None, 75, 100, 512  0           ['conv3_block1_add[0][0]']       \n",
            "                                )                                                                 \n",
            "                                                                                                  \n",
            " conv3_block2_1_conv (Conv2D)   (None, 75, 100, 128  65664       ['conv3_block1_out[0][0]']       \n",
            "                                )                                                                 \n",
            "                                                                                                  \n",
            " conv3_block2_1_bn (BatchNormal  (None, 75, 100, 128  512        ['conv3_block2_1_conv[0][0]']    \n",
            " ization)                       )                                                                 \n",
            "                                                                                                  \n",
            " conv3_block2_1_relu (Activatio  (None, 75, 100, 128  0          ['conv3_block2_1_bn[0][0]']      \n",
            " n)                             )                                                                 \n",
            "                                                                                                  \n",
            " conv3_block2_2_conv (Conv2D)   (None, 75, 100, 128  147584      ['conv3_block2_1_relu[0][0]']    \n",
            "                                )                                                                 \n",
            "                                                                                                  \n",
            " conv3_block2_2_bn (BatchNormal  (None, 75, 100, 128  512        ['conv3_block2_2_conv[0][0]']    \n",
            " ization)                       )                                                                 \n",
            "                                                                                                  \n",
            " conv3_block2_2_relu (Activatio  (None, 75, 100, 128  0          ['conv3_block2_2_bn[0][0]']      \n",
            " n)                             )                                                                 \n",
            "                                                                                                  \n",
            " conv3_block2_3_conv (Conv2D)   (None, 75, 100, 512  66048       ['conv3_block2_2_relu[0][0]']    \n",
            "                                )                                                                 \n",
            "                                                                                                  \n",
            " conv3_block2_3_bn (BatchNormal  (None, 75, 100, 512  2048       ['conv3_block2_3_conv[0][0]']    \n",
            " ization)                       )                                                                 \n",
            "                                                                                                  \n",
            " conv3_block2_add (Add)         (None, 75, 100, 512  0           ['conv3_block1_out[0][0]',       \n",
            "                                )                                 'conv3_block2_3_bn[0][0]']      \n",
            "                                                                                                  \n",
            " conv3_block2_out (Activation)  (None, 75, 100, 512  0           ['conv3_block2_add[0][0]']       \n",
            "                                )                                                                 \n",
            "                                                                                                  \n",
            " conv3_block3_1_conv (Conv2D)   (None, 75, 100, 128  65664       ['conv3_block2_out[0][0]']       \n",
            "                                )                                                                 \n",
            "                                                                                                  \n",
            " conv3_block3_1_bn (BatchNormal  (None, 75, 100, 128  512        ['conv3_block3_1_conv[0][0]']    \n",
            " ization)                       )                                                                 \n",
            "                                                                                                  \n",
            " conv3_block3_1_relu (Activatio  (None, 75, 100, 128  0          ['conv3_block3_1_bn[0][0]']      \n",
            " n)                             )                                                                 \n",
            "                                                                                                  \n",
            " conv3_block3_2_conv (Conv2D)   (None, 75, 100, 128  147584      ['conv3_block3_1_relu[0][0]']    \n",
            "                                )                                                                 \n",
            "                                                                                                  \n",
            " conv3_block3_2_bn (BatchNormal  (None, 75, 100, 128  512        ['conv3_block3_2_conv[0][0]']    \n",
            " ization)                       )                                                                 \n",
            "                                                                                                  \n",
            " conv3_block3_2_relu (Activatio  (None, 75, 100, 128  0          ['conv3_block3_2_bn[0][0]']      \n",
            " n)                             )                                                                 \n",
            "                                                                                                  \n",
            " conv3_block3_3_conv (Conv2D)   (None, 75, 100, 512  66048       ['conv3_block3_2_relu[0][0]']    \n",
            "                                )                                                                 \n",
            "                                                                                                  \n",
            " conv3_block3_3_bn (BatchNormal  (None, 75, 100, 512  2048       ['conv3_block3_3_conv[0][0]']    \n",
            " ization)                       )                                                                 \n",
            "                                                                                                  \n",
            " conv3_block3_add (Add)         (None, 75, 100, 512  0           ['conv3_block2_out[0][0]',       \n",
            "                                )                                 'conv3_block3_3_bn[0][0]']      \n",
            "                                                                                                  \n",
            " conv3_block3_out (Activation)  (None, 75, 100, 512  0           ['conv3_block3_add[0][0]']       \n",
            "                                )                                                                 \n",
            "                                                                                                  \n",
            " conv3_block4_1_conv (Conv2D)   (None, 75, 100, 128  65664       ['conv3_block3_out[0][0]']       \n",
            "                                )                                                                 \n",
            "                                                                                                  \n",
            " conv3_block4_1_bn (BatchNormal  (None, 75, 100, 128  512        ['conv3_block4_1_conv[0][0]']    \n",
            " ization)                       )                                                                 \n",
            "                                                                                                  \n",
            " conv3_block4_1_relu (Activatio  (None, 75, 100, 128  0          ['conv3_block4_1_bn[0][0]']      \n",
            " n)                             )                                                                 \n",
            "                                                                                                  \n",
            " conv3_block4_2_conv (Conv2D)   (None, 75, 100, 128  147584      ['conv3_block4_1_relu[0][0]']    \n",
            "                                )                                                                 \n",
            "                                                                                                  \n",
            " conv3_block4_2_bn (BatchNormal  (None, 75, 100, 128  512        ['conv3_block4_2_conv[0][0]']    \n",
            " ization)                       )                                                                 \n",
            "                                                                                                  \n",
            " conv3_block4_2_relu (Activatio  (None, 75, 100, 128  0          ['conv3_block4_2_bn[0][0]']      \n",
            " n)                             )                                                                 \n",
            "                                                                                                  \n",
            " conv3_block4_3_conv (Conv2D)   (None, 75, 100, 512  66048       ['conv3_block4_2_relu[0][0]']    \n",
            "                                )                                                                 \n",
            "                                                                                                  \n",
            " conv3_block4_3_bn (BatchNormal  (None, 75, 100, 512  2048       ['conv3_block4_3_conv[0][0]']    \n",
            " ization)                       )                                                                 \n",
            "                                                                                                  \n",
            " conv3_block4_add (Add)         (None, 75, 100, 512  0           ['conv3_block3_out[0][0]',       \n",
            "                                )                                 'conv3_block4_3_bn[0][0]']      \n",
            "                                                                                                  \n",
            " conv3_block4_out (Activation)  (None, 75, 100, 512  0           ['conv3_block4_add[0][0]']       \n",
            "                                )                                                                 \n",
            "                                                                                                  \n",
            " conv4_block1_1_conv (Conv2D)   (None, 38, 50, 256)  131328      ['conv3_block4_out[0][0]']       \n",
            "                                                                                                  \n",
            " conv4_block1_1_bn (BatchNormal  (None, 38, 50, 256)  1024       ['conv4_block1_1_conv[0][0]']    \n",
            " ization)                                                                                         \n",
            "                                                                                                  \n",
            " conv4_block1_1_relu (Activatio  (None, 38, 50, 256)  0          ['conv4_block1_1_bn[0][0]']      \n",
            " n)                                                                                               \n",
            "                                                                                                  \n",
            " conv4_block1_2_conv (Conv2D)   (None, 38, 50, 256)  590080      ['conv4_block1_1_relu[0][0]']    \n",
            "                                                                                                  \n",
            " conv4_block1_2_bn (BatchNormal  (None, 38, 50, 256)  1024       ['conv4_block1_2_conv[0][0]']    \n",
            " ization)                                                                                         \n",
            "                                                                                                  \n",
            " conv4_block1_2_relu (Activatio  (None, 38, 50, 256)  0          ['conv4_block1_2_bn[0][0]']      \n",
            " n)                                                                                               \n",
            "                                                                                                  \n",
            " conv4_block1_0_conv (Conv2D)   (None, 38, 50, 1024  525312      ['conv3_block4_out[0][0]']       \n",
            "                                )                                                                 \n",
            "                                                                                                  \n",
            " conv4_block1_3_conv (Conv2D)   (None, 38, 50, 1024  263168      ['conv4_block1_2_relu[0][0]']    \n",
            "                                )                                                                 \n",
            "                                                                                                  \n",
            " conv4_block1_0_bn (BatchNormal  (None, 38, 50, 1024  4096       ['conv4_block1_0_conv[0][0]']    \n",
            " ization)                       )                                                                 \n",
            "                                                                                                  \n",
            " conv4_block1_3_bn (BatchNormal  (None, 38, 50, 1024  4096       ['conv4_block1_3_conv[0][0]']    \n",
            " ization)                       )                                                                 \n",
            "                                                                                                  \n",
            " conv4_block1_add (Add)         (None, 38, 50, 1024  0           ['conv4_block1_0_bn[0][0]',      \n",
            "                                )                                 'conv4_block1_3_bn[0][0]']      \n",
            "                                                                                                  \n",
            " conv4_block1_out (Activation)  (None, 38, 50, 1024  0           ['conv4_block1_add[0][0]']       \n",
            "                                )                                                                 \n",
            "                                                                                                  \n",
            " conv4_block2_1_conv (Conv2D)   (None, 38, 50, 256)  262400      ['conv4_block1_out[0][0]']       \n",
            "                                                                                                  \n",
            " conv4_block2_1_bn (BatchNormal  (None, 38, 50, 256)  1024       ['conv4_block2_1_conv[0][0]']    \n",
            " ization)                                                                                         \n",
            "                                                                                                  \n",
            " conv4_block2_1_relu (Activatio  (None, 38, 50, 256)  0          ['conv4_block2_1_bn[0][0]']      \n",
            " n)                                                                                               \n",
            "                                                                                                  \n",
            " conv4_block2_2_conv (Conv2D)   (None, 38, 50, 256)  590080      ['conv4_block2_1_relu[0][0]']    \n",
            "                                                                                                  \n",
            " conv4_block2_2_bn (BatchNormal  (None, 38, 50, 256)  1024       ['conv4_block2_2_conv[0][0]']    \n",
            " ization)                                                                                         \n",
            "                                                                                                  \n",
            " conv4_block2_2_relu (Activatio  (None, 38, 50, 256)  0          ['conv4_block2_2_bn[0][0]']      \n",
            " n)                                                                                               \n",
            "                                                                                                  \n",
            " conv4_block2_3_conv (Conv2D)   (None, 38, 50, 1024  263168      ['conv4_block2_2_relu[0][0]']    \n",
            "                                )                                                                 \n",
            "                                                                                                  \n",
            " conv4_block2_3_bn (BatchNormal  (None, 38, 50, 1024  4096       ['conv4_block2_3_conv[0][0]']    \n",
            " ization)                       )                                                                 \n",
            "                                                                                                  \n",
            " conv4_block2_add (Add)         (None, 38, 50, 1024  0           ['conv4_block1_out[0][0]',       \n",
            "                                )                                 'conv4_block2_3_bn[0][0]']      \n",
            "                                                                                                  \n",
            " conv4_block2_out (Activation)  (None, 38, 50, 1024  0           ['conv4_block2_add[0][0]']       \n",
            "                                )                                                                 \n",
            "                                                                                                  \n",
            " conv4_block3_1_conv (Conv2D)   (None, 38, 50, 256)  262400      ['conv4_block2_out[0][0]']       \n",
            "                                                                                                  \n",
            " conv4_block3_1_bn (BatchNormal  (None, 38, 50, 256)  1024       ['conv4_block3_1_conv[0][0]']    \n",
            " ization)                                                                                         \n",
            "                                                                                                  \n",
            " conv4_block3_1_relu (Activatio  (None, 38, 50, 256)  0          ['conv4_block3_1_bn[0][0]']      \n",
            " n)                                                                                               \n",
            "                                                                                                  \n",
            " conv4_block3_2_conv (Conv2D)   (None, 38, 50, 256)  590080      ['conv4_block3_1_relu[0][0]']    \n",
            "                                                                                                  \n",
            " conv4_block3_2_bn (BatchNormal  (None, 38, 50, 256)  1024       ['conv4_block3_2_conv[0][0]']    \n",
            " ization)                                                                                         \n",
            "                                                                                                  \n",
            " conv4_block3_2_relu (Activatio  (None, 38, 50, 256)  0          ['conv4_block3_2_bn[0][0]']      \n",
            " n)                                                                                               \n",
            "                                                                                                  \n",
            " conv4_block3_3_conv (Conv2D)   (None, 38, 50, 1024  263168      ['conv4_block3_2_relu[0][0]']    \n",
            "                                )                                                                 \n",
            "                                                                                                  \n",
            " conv4_block3_3_bn (BatchNormal  (None, 38, 50, 1024  4096       ['conv4_block3_3_conv[0][0]']    \n",
            " ization)                       )                                                                 \n",
            "                                                                                                  \n",
            " conv4_block3_add (Add)         (None, 38, 50, 1024  0           ['conv4_block2_out[0][0]',       \n",
            "                                )                                 'conv4_block3_3_bn[0][0]']      \n",
            "                                                                                                  \n",
            " conv4_block3_out (Activation)  (None, 38, 50, 1024  0           ['conv4_block3_add[0][0]']       \n",
            "                                )                                                                 \n",
            "                                                                                                  \n",
            " conv4_block4_1_conv (Conv2D)   (None, 38, 50, 256)  262400      ['conv4_block3_out[0][0]']       \n",
            "                                                                                                  \n",
            " conv4_block4_1_bn (BatchNormal  (None, 38, 50, 256)  1024       ['conv4_block4_1_conv[0][0]']    \n",
            " ization)                                                                                         \n",
            "                                                                                                  \n",
            " conv4_block4_1_relu (Activatio  (None, 38, 50, 256)  0          ['conv4_block4_1_bn[0][0]']      \n",
            " n)                                                                                               \n",
            "                                                                                                  \n",
            " conv4_block4_2_conv (Conv2D)   (None, 38, 50, 256)  590080      ['conv4_block4_1_relu[0][0]']    \n",
            "                                                                                                  \n",
            " conv4_block4_2_bn (BatchNormal  (None, 38, 50, 256)  1024       ['conv4_block4_2_conv[0][0]']    \n",
            " ization)                                                                                         \n",
            "                                                                                                  \n",
            " conv4_block4_2_relu (Activatio  (None, 38, 50, 256)  0          ['conv4_block4_2_bn[0][0]']      \n",
            " n)                                                                                               \n",
            "                                                                                                  \n",
            " conv4_block4_3_conv (Conv2D)   (None, 38, 50, 1024  263168      ['conv4_block4_2_relu[0][0]']    \n",
            "                                )                                                                 \n",
            "                                                                                                  \n",
            " conv4_block4_3_bn (BatchNormal  (None, 38, 50, 1024  4096       ['conv4_block4_3_conv[0][0]']    \n",
            " ization)                       )                                                                 \n",
            "                                                                                                  \n",
            " conv4_block4_add (Add)         (None, 38, 50, 1024  0           ['conv4_block3_out[0][0]',       \n",
            "                                )                                 'conv4_block4_3_bn[0][0]']      \n",
            "                                                                                                  \n",
            " conv4_block4_out (Activation)  (None, 38, 50, 1024  0           ['conv4_block4_add[0][0]']       \n",
            "                                )                                                                 \n",
            "                                                                                                  \n",
            " conv4_block5_1_conv (Conv2D)   (None, 38, 50, 256)  262400      ['conv4_block4_out[0][0]']       \n",
            "                                                                                                  \n",
            " conv4_block5_1_bn (BatchNormal  (None, 38, 50, 256)  1024       ['conv4_block5_1_conv[0][0]']    \n",
            " ization)                                                                                         \n",
            "                                                                                                  \n",
            " conv4_block5_1_relu (Activatio  (None, 38, 50, 256)  0          ['conv4_block5_1_bn[0][0]']      \n",
            " n)                                                                                               \n",
            "                                                                                                  \n",
            " conv4_block5_2_conv (Conv2D)   (None, 38, 50, 256)  590080      ['conv4_block5_1_relu[0][0]']    \n",
            "                                                                                                  \n",
            " conv4_block5_2_bn (BatchNormal  (None, 38, 50, 256)  1024       ['conv4_block5_2_conv[0][0]']    \n",
            " ization)                                                                                         \n",
            "                                                                                                  \n",
            " conv4_block5_2_relu (Activatio  (None, 38, 50, 256)  0          ['conv4_block5_2_bn[0][0]']      \n",
            " n)                                                                                               \n",
            "                                                                                                  \n",
            " conv4_block5_3_conv (Conv2D)   (None, 38, 50, 1024  263168      ['conv4_block5_2_relu[0][0]']    \n",
            "                                )                                                                 \n",
            "                                                                                                  \n",
            " conv4_block5_3_bn (BatchNormal  (None, 38, 50, 1024  4096       ['conv4_block5_3_conv[0][0]']    \n",
            " ization)                       )                                                                 \n",
            "                                                                                                  \n",
            " conv4_block5_add (Add)         (None, 38, 50, 1024  0           ['conv4_block4_out[0][0]',       \n",
            "                                )                                 'conv4_block5_3_bn[0][0]']      \n",
            "                                                                                                  \n",
            " conv4_block5_out (Activation)  (None, 38, 50, 1024  0           ['conv4_block5_add[0][0]']       \n",
            "                                )                                                                 \n",
            "                                                                                                  \n",
            " conv4_block6_1_conv (Conv2D)   (None, 38, 50, 256)  262400      ['conv4_block5_out[0][0]']       \n",
            "                                                                                                  \n",
            " conv4_block6_1_bn (BatchNormal  (None, 38, 50, 256)  1024       ['conv4_block6_1_conv[0][0]']    \n",
            " ization)                                                                                         \n",
            "                                                                                                  \n",
            " conv4_block6_1_relu (Activatio  (None, 38, 50, 256)  0          ['conv4_block6_1_bn[0][0]']      \n",
            " n)                                                                                               \n",
            "                                                                                                  \n",
            " conv4_block6_2_conv (Conv2D)   (None, 38, 50, 256)  590080      ['conv4_block6_1_relu[0][0]']    \n",
            "                                                                                                  \n",
            " conv4_block6_2_bn (BatchNormal  (None, 38, 50, 256)  1024       ['conv4_block6_2_conv[0][0]']    \n",
            " ization)                                                                                         \n",
            "                                                                                                  \n",
            " conv4_block6_2_relu (Activatio  (None, 38, 50, 256)  0          ['conv4_block6_2_bn[0][0]']      \n",
            " n)                                                                                               \n",
            "                                                                                                  \n",
            " conv4_block6_3_conv (Conv2D)   (None, 38, 50, 1024  263168      ['conv4_block6_2_relu[0][0]']    \n",
            "                                )                                                                 \n",
            "                                                                                                  \n",
            " conv4_block6_3_bn (BatchNormal  (None, 38, 50, 1024  4096       ['conv4_block6_3_conv[0][0]']    \n",
            " ization)                       )                                                                 \n",
            "                                                                                                  \n",
            " conv4_block6_add (Add)         (None, 38, 50, 1024  0           ['conv4_block5_out[0][0]',       \n",
            "                                )                                 'conv4_block6_3_bn[0][0]']      \n",
            "                                                                                                  \n",
            " conv4_block6_out (Activation)  (None, 38, 50, 1024  0           ['conv4_block6_add[0][0]']       \n",
            "                                )                                                                 \n",
            "                                                                                                  \n",
            " conv5_block1_1_conv (Conv2D)   (None, 19, 25, 512)  524800      ['conv4_block6_out[0][0]']       \n",
            "                                                                                                  \n",
            " conv5_block1_1_bn (BatchNormal  (None, 19, 25, 512)  2048       ['conv5_block1_1_conv[0][0]']    \n",
            " ization)                                                                                         \n",
            "                                                                                                  \n",
            " conv5_block1_1_relu (Activatio  (None, 19, 25, 512)  0          ['conv5_block1_1_bn[0][0]']      \n",
            " n)                                                                                               \n",
            "                                                                                                  \n",
            " conv5_block1_2_conv (Conv2D)   (None, 19, 25, 512)  2359808     ['conv5_block1_1_relu[0][0]']    \n",
            "                                                                                                  \n",
            " conv5_block1_2_bn (BatchNormal  (None, 19, 25, 512)  2048       ['conv5_block1_2_conv[0][0]']    \n",
            " ization)                                                                                         \n",
            "                                                                                                  \n",
            " conv5_block1_2_relu (Activatio  (None, 19, 25, 512)  0          ['conv5_block1_2_bn[0][0]']      \n",
            " n)                                                                                               \n",
            "                                                                                                  \n",
            " conv5_block1_0_conv (Conv2D)   (None, 19, 25, 2048  2099200     ['conv4_block6_out[0][0]']       \n",
            "                                )                                                                 \n",
            "                                                                                                  \n",
            " conv5_block1_3_conv (Conv2D)   (None, 19, 25, 2048  1050624     ['conv5_block1_2_relu[0][0]']    \n",
            "                                )                                                                 \n",
            "                                                                                                  \n",
            " conv5_block1_0_bn (BatchNormal  (None, 19, 25, 2048  8192       ['conv5_block1_0_conv[0][0]']    \n",
            " ization)                       )                                                                 \n",
            "                                                                                                  \n",
            " conv5_block1_3_bn (BatchNormal  (None, 19, 25, 2048  8192       ['conv5_block1_3_conv[0][0]']    \n",
            " ization)                       )                                                                 \n",
            "                                                                                                  \n",
            " conv5_block1_add (Add)         (None, 19, 25, 2048  0           ['conv5_block1_0_bn[0][0]',      \n",
            "                                )                                 'conv5_block1_3_bn[0][0]']      \n",
            "                                                                                                  \n",
            " conv5_block1_out (Activation)  (None, 19, 25, 2048  0           ['conv5_block1_add[0][0]']       \n",
            "                                )                                                                 \n",
            "                                                                                                  \n",
            " conv5_block2_1_conv (Conv2D)   (None, 19, 25, 512)  1049088     ['conv5_block1_out[0][0]']       \n",
            "                                                                                                  \n",
            " conv5_block2_1_bn (BatchNormal  (None, 19, 25, 512)  2048       ['conv5_block2_1_conv[0][0]']    \n",
            " ization)                                                                                         \n",
            "                                                                                                  \n",
            " conv5_block2_1_relu (Activatio  (None, 19, 25, 512)  0          ['conv5_block2_1_bn[0][0]']      \n",
            " n)                                                                                               \n",
            "                                                                                                  \n",
            " conv5_block2_2_conv (Conv2D)   (None, 19, 25, 512)  2359808     ['conv5_block2_1_relu[0][0]']    \n",
            "                                                                                                  \n",
            " conv5_block2_2_bn (BatchNormal  (None, 19, 25, 512)  2048       ['conv5_block2_2_conv[0][0]']    \n",
            " ization)                                                                                         \n",
            "                                                                                                  \n",
            " conv5_block2_2_relu (Activatio  (None, 19, 25, 512)  0          ['conv5_block2_2_bn[0][0]']      \n",
            " n)                                                                                               \n",
            "                                                                                                  \n",
            " conv5_block2_3_conv (Conv2D)   (None, 19, 25, 2048  1050624     ['conv5_block2_2_relu[0][0]']    \n",
            "                                )                                                                 \n",
            "                                                                                                  \n",
            " conv5_block2_3_bn (BatchNormal  (None, 19, 25, 2048  8192       ['conv5_block2_3_conv[0][0]']    \n",
            " ization)                       )                                                                 \n",
            "                                                                                                  \n",
            " conv5_block2_add (Add)         (None, 19, 25, 2048  0           ['conv5_block1_out[0][0]',       \n",
            "                                )                                 'conv5_block2_3_bn[0][0]']      \n",
            "                                                                                                  \n",
            " conv5_block2_out (Activation)  (None, 19, 25, 2048  0           ['conv5_block2_add[0][0]']       \n",
            "                                )                                                                 \n",
            "                                                                                                  \n",
            " conv5_block3_1_conv (Conv2D)   (None, 19, 25, 512)  1049088     ['conv5_block2_out[0][0]']       \n",
            "                                                                                                  \n",
            " conv5_block3_1_bn (BatchNormal  (None, 19, 25, 512)  2048       ['conv5_block3_1_conv[0][0]']    \n",
            " ization)                                                                                         \n",
            "                                                                                                  \n",
            " conv5_block3_1_relu (Activatio  (None, 19, 25, 512)  0          ['conv5_block3_1_bn[0][0]']      \n",
            " n)                                                                                               \n",
            "                                                                                                  \n",
            " conv5_block3_2_conv (Conv2D)   (None, 19, 25, 512)  2359808     ['conv5_block3_1_relu[0][0]']    \n",
            "                                                                                                  \n",
            " conv5_block3_2_bn (BatchNormal  (None, 19, 25, 512)  2048       ['conv5_block3_2_conv[0][0]']    \n",
            " ization)                                                                                         \n",
            "                                                                                                  \n",
            " conv5_block3_2_relu (Activatio  (None, 19, 25, 512)  0          ['conv5_block3_2_bn[0][0]']      \n",
            " n)                                                                                               \n",
            "                                                                                                  \n",
            " conv5_block3_3_conv (Conv2D)   (None, 19, 25, 2048  1050624     ['conv5_block3_2_relu[0][0]']    \n",
            "                                )                                                                 \n",
            "                                                                                                  \n",
            " conv5_block3_3_bn (BatchNormal  (None, 19, 25, 2048  8192       ['conv5_block3_3_conv[0][0]']    \n",
            " ization)                       )                                                                 \n",
            "                                                                                                  \n",
            " conv5_block3_add (Add)         (None, 19, 25, 2048  0           ['conv5_block2_out[0][0]',       \n",
            "                                )                                 'conv5_block3_3_bn[0][0]']      \n",
            "                                                                                                  \n",
            " conv5_block3_out (Activation)  (None, 19, 25, 2048  0           ['conv5_block3_add[0][0]']       \n",
            "                                )                                                                 \n",
            "                                                                                                  \n",
            " global_average_pooling2d_2 (Gl  (None, 2048)        0           ['conv5_block3_out[0][0]']       \n",
            " obalAveragePooling2D)                                                                            \n",
            "                                                                                                  \n",
            " dense_10 (Dense)               (None, 64)           131136      ['global_average_pooling2d_2[0][0\n",
            "                                                                 ]']                              \n",
            "                                                                                                  \n",
            " dropout_2 (Dropout)            (None, 64)           0           ['dense_10[0][0]']               \n",
            "                                                                                                  \n",
            " dense_11 (Dense)               (None, 8)            520         ['dropout_2[0][0]']              \n",
            "                                                                                                  \n",
            "==================================================================================================\n",
            "Total params: 23,719,368\n",
            "Trainable params: 131,656\n",
            "Non-trainable params: 23,587,712\n",
            "__________________________________________________________________________________________________\n"
          ]
        }
      ]
    },
    {
      "cell_type": "code",
      "source": [],
      "metadata": {
        "id": "Pi4-lRQJLcKD"
      },
      "execution_count": null,
      "outputs": []
    }
  ]
}