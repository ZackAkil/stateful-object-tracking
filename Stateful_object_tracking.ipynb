{
  "nbformat": 4,
  "nbformat_minor": 0,
  "metadata": {
    "colab": {
      "provenance": [],
      "authorship_tag": "ABX9TyMKXKEvrGHGOXD/W4vYjexW",
      "include_colab_link": true
    },
    "kernelspec": {
      "name": "python3",
      "display_name": "Python 3"
    },
    "language_info": {
      "name": "python"
    }
  },
  "cells": [
    {
      "cell_type": "markdown",
      "metadata": {
        "id": "view-in-github",
        "colab_type": "text"
      },
      "source": [
        "<a href=\"https://colab.research.google.com/github/ZackAkil/stateful-object-tracking/blob/main/Stateful_object_tracking.ipynb\" target=\"_parent\"><img src=\"https://colab.research.google.com/assets/colab-badge.svg\" alt=\"Open In Colab\"/></a>"
      ]
    },
    {
      "cell_type": "code",
      "source": [
        "!wget https://github.com/ZackAkil/stateful-object-tracking/raw/main/dummy%20data/labeling_circles/processing-movie.mp4"
      ],
      "metadata": {
        "colab": {
          "base_uri": "https://localhost:8080/"
        },
        "id": "8vLe7ZVDhfaR",
        "outputId": "9558926b-ef7c-4752-89dc-86d3a76a454f"
      },
      "execution_count": 2,
      "outputs": [
        {
          "output_type": "stream",
          "name": "stdout",
          "text": [
            "--2023-05-14 18:29:54--  https://github.com/ZackAkil/stateful-object-tracking/raw/main/dummy%20data/labeling_circles/processing-movie.mp4\n",
            "Resolving github.com (github.com)... 140.82.113.4\n",
            "Connecting to github.com (github.com)|140.82.113.4|:443... connected.\n",
            "HTTP request sent, awaiting response... 302 Found\n",
            "Location: https://raw.githubusercontent.com/ZackAkil/stateful-object-tracking/main/dummy%20data/labeling_circles/processing-movie.mp4 [following]\n",
            "--2023-05-14 18:29:54--  https://raw.githubusercontent.com/ZackAkil/stateful-object-tracking/main/dummy%20data/labeling_circles/processing-movie.mp4\n",
            "Resolving raw.githubusercontent.com (raw.githubusercontent.com)... 185.199.108.133, 185.199.109.133, 185.199.110.133, ...\n",
            "Connecting to raw.githubusercontent.com (raw.githubusercontent.com)|185.199.108.133|:443... connected.\n",
            "HTTP request sent, awaiting response... 200 OK\n",
            "Length: 82346 (80K) [application/octet-stream]\n",
            "Saving to: ‘processing-movie.mp4’\n",
            "\n",
            "processing-movie.mp 100%[===================>]  80.42K  --.-KB/s    in 0.01s   \n",
            "\n",
            "2023-05-14 18:29:54 (6.71 MB/s) - ‘processing-movie.mp4’ saved [82346/82346]\n",
            "\n"
          ]
        }
      ]
    },
    {
      "cell_type": "code",
      "source": [
        "import cv2\n",
        "import os\n",
        "\n",
        "# Path to the video file\n",
        "video_path = 'processing-movie.mp4'\n",
        "\n",
        "# Open the video file\n",
        "video = cv2.VideoCapture(video_path)\n",
        "\n",
        "# Create the folder to save the images\n",
        "output_folder = 'training_images'\n",
        "os.makedirs(output_folder, exist_ok=True)\n",
        "\n",
        "frame_number = 0\n",
        "\n",
        "while True:\n",
        "    # Set the frame position to the desired frame number\n",
        "    video.set(cv2.CAP_PROP_POS_FRAMES, frame_number)\n",
        "\n",
        "    # Read the frame\n",
        "    success, frame = video.read()\n",
        "\n",
        "    if success:\n",
        "        # Save the frame as an image\n",
        "        image_path = os.path.join(output_folder, f'{frame_number}.jpg')\n",
        "        cv2.imwrite(image_path, frame)\n",
        "        print(f\"Frame {frame_number} saved successfully: {image_path}\")\n",
        "        frame_number += 1\n",
        "    else:\n",
        "        print(\"End of video reached.\")\n",
        "        break\n"
      ],
      "metadata": {
        "id": "NBiwXeVRh2rI"
      },
      "execution_count": null,
      "outputs": []
    },
    {
      "cell_type": "code",
      "source": [
        "!zip -r training_images.zip training_images"
      ],
      "metadata": {
        "id": "mNuBn-IQlro-"
      },
      "execution_count": null,
      "outputs": []
    },
    {
      "cell_type": "code",
      "execution_count": 23,
      "metadata": {
        "colab": {
          "base_uri": "https://localhost:8080/",
          "height": 435
        },
        "id": "BPvGFWkohZw_",
        "outputId": "196fabfa-d08f-426e-e0c7-10bfa1b51008"
      },
      "outputs": [
        {
          "output_type": "display_data",
          "data": {
            "text/plain": [
              "<Figure size 640x480 with 1 Axes>"
            ],
            "image/png": "[encoded data removed]"
          },
          "metadata": {}
        }
      ],
      "source": [
        "import matplotlib.pyplot as plt\n",
        "import matplotlib.patches as patches\n",
        "from PIL import Image\n",
        "\n",
        "# Load the image\n",
        "image_path = 'frame1.jpg'\n",
        "image = Image.open(image_path)\n",
        "\n",
        "# Create figure and axes\n",
        "fig, ax = plt.subplots()\n",
        "\n",
        "# Display the image\n",
        "ax.imshow(image)\n",
        "\n",
        "# Define the bounding box coordinates\n",
        "x_min = 100\n",
        "y_min = 100\n",
        "width = 200\n",
        "height = 150\n",
        "\n",
        "# Create a rectangle patch\n",
        "rect = patches.Rectangle((x_min, y_min), width, height, linewidth=2, edgecolor='r', facecolor='none')\n",
        "# Add the rectangle patch to the axes\n",
        "ax.add_patch(rect)\n",
        "# Show the plot\n",
        "plt.show()"
      ]
    },
    {
      "cell_type": "code",
      "source": [
        "!wget https://raw.githubusercontent.com/ZackAkil/stateful-object-tracking/main/dummy%20data/labeling_circles/bounding_box_coordinates.csv"
      ],
      "metadata": {
        "colab": {
          "base_uri": "https://localhost:8080/"
        },
        "id": "Aqd69MTHiGz0",
        "outputId": "74f45baa-2dd2-407b-c42c-0f82ae19a7f3"
      },
      "execution_count": 24,
      "outputs": [
        {
          "output_type": "stream",
          "name": "stdout",
          "text": [
            "--2023-05-14 18:43:06--  https://raw.githubusercontent.com/ZackAkil/stateful-object-tracking/main/dummy%20data/labeling_circles/bounding_box_coordinates.csv\n",
            "Resolving raw.githubusercontent.com (raw.githubusercontent.com)... 185.199.108.133, 185.199.109.133, 185.199.110.133, ...\n",
            "Connecting to raw.githubusercontent.com (raw.githubusercontent.com)|185.199.108.133|:443... connected.\n",
            "HTTP request sent, awaiting response... 200 OK\n",
            "Length: 9314 (9.1K) [text/plain]\n",
            "Saving to: ‘bounding_box_coordinates.csv.1’\n",
            "\n",
            "\r          bounding_   0%[                    ]       0  --.-KB/s               \rbounding_box_coordi 100%[===================>]   9.10K  --.-KB/s    in 0s      \n",
            "\n",
            "2023-05-14 18:43:06 (63.8 MB/s) - ‘bounding_box_coordinates.csv.1’ saved [9314/9314]\n",
            "\n"
          ]
        }
      ]
    },
    {
      "cell_type": "code",
      "source": [
        "import csv\n",
        "\n",
        "# Path to the CSV file\n",
        "csv_path = 'bounding_box_coordinates.csv'\n",
        "\n",
        "# Open the CSV file\n",
        "with open(csv_path, 'r') as file:\n",
        "    # Create a CSV reader\n",
        "    reader = csv.reader(file)\n",
        "    \n",
        "    # Initialize an empty list to store the data\n",
        "    data = []\n",
        "    \n",
        "    # Read and process each row\n",
        "    for row in reader:\n",
        "        # Convert row values to numbers and append to the data list\n",
        "        row_numbers = [float(value) for value in row]\n",
        "        data.append(row_numbers)"
      ],
      "metadata": {
        "id": "c0HVwek_iQ41"
      },
      "execution_count": 25,
      "outputs": []
    },
    {
      "cell_type": "code",
      "source": [
        "FRAME_N = 40"
      ],
      "metadata": {
        "id": "Nz68YgAYmLnY"
      },
      "execution_count": 30,
      "outputs": []
    },
    {
      "cell_type": "code",
      "source": [
        "data[FRAME_N]"
      ],
      "metadata": {
        "colab": {
          "base_uri": "https://localhost:8080/"
        },
        "id": "hpw42cknik5A",
        "outputId": "44ff2d45-43cd-4e96-e0e5-2800c58c05df"
      },
      "execution_count": 31,
      "outputs": [
        {
          "output_type": "execute_result",
          "data": {
            "text/plain": [
              "[621.0, 671.0, 548.0, 598.0, 539.0, 589.0, 480.0, 530.0]"
            ]
          },
          "metadata": {},
          "execution_count": 31
        }
      ]
    },
    {
      "cell_type": "code",
      "source": [
        "def convert_coordinates(min_x, max_x, min_y, max_y):\n",
        "    x_min = min_x\n",
        "    y_min = min_y\n",
        "    width = max_x - min_x\n",
        "    height = max_y - min_y\n",
        "    return x_min, y_min, width, height\n",
        "\n",
        "def display_image_with_bounding_boxes(image_filename, bounding_boxes):\n",
        "    # Load the image\n",
        "    image = Image.open(image_filename)\n",
        "\n",
        "    # Create figure and axes\n",
        "    fig, ax = plt.subplots()\n",
        "\n",
        "    # Display the image\n",
        "    ax.imshow(image)\n",
        "\n",
        "    # Add bounding boxes to the plot\n",
        "    for bbox in bounding_boxes:\n",
        "        print(bbox)\n",
        "        x_min, y_min, width, height = convert_coordinates(*bbox)\n",
        "        rect = patches.Rectangle((x_min, y_min), width, height, linewidth=2, edgecolor='r', facecolor='none')\n",
        "        ax.add_patch(rect)\n",
        "\n",
        "    # Show the plot\n",
        "    plt.show()"
      ],
      "metadata": {
        "id": "2EnEwknTimSj"
      },
      "execution_count": 32,
      "outputs": []
    },
    {
      "cell_type": "code",
      "source": [
        "display_image_with_bounding_boxes(f'training_images/{FRAME_N}.jpg', [data[FRAME_N][:4], data[FRAME_N][4:]])"
      ],
      "metadata": {
        "colab": {
          "base_uri": "https://localhost:8080/",
          "height": 470
        },
        "id": "PAGIvvn1jBtn",
        "outputId": "b795499b-b0b5-420f-fe00-12082d2e0a3b"
      },
      "execution_count": 33,
      "outputs": [
        {
          "output_type": "stream",
          "name": "stdout",
          "text": [
            "[621.0, 671.0, 548.0, 598.0]\n",
            "[539.0, 589.0, 480.0, 530.0]\n"
          ]
        },
        {
          "output_type": "display_data",
          "data": {
            "text/plain": [
              "<Figure size 640x480 with 1 Axes>"
            ],
            "image/png": "[encoded data removed]"
          },
          "metadata": {}
        }
      ]
    },
    {
      "cell_type": "code",
      "source": [
        "image = Image.open('/content/frame1.jpg')"
      ],
      "metadata": {
        "id": "DLsopPbgn2zb"
      },
      "execution_count": 34,
      "outputs": []
    },
    {
      "cell_type": "code",
      "source": [
        "image.size"
      ],
      "metadata": {
        "colab": {
          "base_uri": "https://localhost:8080/"
        },
        "id": "ouwYey8Ln5e9",
        "outputId": "0c57a74b-d485-4870-e921-c167485d89d2"
      },
      "execution_count": 36,
      "outputs": [
        {
          "output_type": "execute_result",
          "data": {
            "text/plain": [
              "(800, 600)"
            ]
          },
          "metadata": {},
          "execution_count": 36
        }
      ]
    },
    {
      "cell_type": "code",
      "source": [
        "import numpy as np\n",
        "from tensorflow import keras\n",
        "from tensorflow.keras.models import Model\n",
        "from tensorflow.keras.layers import Input, Conv2D, MaxPooling2D, Flatten, Dense\n",
        "\n",
        "# Load and preprocess your dataset\n",
        "# X_train: input images\n",
        "# y_train: bounding box coordinates of the two objects\n",
        "image_height=600\n",
        "image_width=800\n",
        "image_channels=3\n",
        "\n",
        "# Define the model architecture\n",
        "input_shape = (image_height, image_width, image_channels)\n",
        "inputs = Input(shape=input_shape)\n",
        "x = Conv2D(16, kernel_size=(3, 3), activation='relu')(inputs)\n",
        "x = MaxPooling2D(pool_size=(2, 2))(x)\n",
        "x = Conv2D(32, kernel_size=(3, 3), activation='relu')(x)\n",
        "x = MaxPooling2D(pool_size=(2, 2))(x)\n",
        "x = Flatten()(x)\n",
        "x = Dense(64, activation='relu')(x)\n",
        "x = Dense(32, activation='relu')(x)\n",
        "output = Dense(8, activation='linear')(x)  # Output layer with 8 neurons for 2 bounding box coordinates\n",
        "\n",
        "model = Model(inputs=inputs, outputs=output)\n",
        "\n",
        "# Compile the model\n",
        "model.compile(optimizer='adam', loss='mean_squared_error')\n",
        "\n",
        "# Train the model\n",
        "model.fit(X_train, y_train, batch_size=32, epochs=10)\n",
        "\n",
        "# Save the trained model\n",
        "model.save('object_detection_model.h5')"
      ],
      "metadata": {
        "id": "VNIVD77CjJ30"
      },
      "execution_count": null,
      "outputs": []
    }
  ]
}